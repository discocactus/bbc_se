{
 "cells": [
  {
   "cell_type": "markdown",
   "metadata": {},
   "source": [
    "# 準備"
   ]
  },
  {
   "cell_type": "code",
   "execution_count": null,
   "metadata": {
    "ExecuteTime": {
     "end_time": "2018-05-12T04:01:28.221970Z",
     "start_time": "2018-05-12T04:01:28.190747Z"
    }
   },
   "outputs": [],
   "source": [
    "import pandas as pd\n",
    "import sys\n",
    "import time\n",
    "from selenium import webdriver\n",
    "from selenium.webdriver.common.keys import Keys\n",
    "from selenium.webdriver.support.select import Select\n",
    "from selenium.webdriver.support.ui import WebDriverWait\n",
    "from selenium.webdriver.common.by import By\n",
    "from selenium.webdriver.support import expected_conditions as EC\n",
    "from selenium.webdriver.chrome.options import Options"
   ]
  },
  {
   "cell_type": "code",
   "execution_count": null,
   "metadata": {
    "ExecuteTime": {
     "end_time": "2018-05-12T03:47:56.814967Z",
     "start_time": "2018-05-12T03:47:56.799301Z"
    }
   },
   "outputs": [],
   "source": [
    "# pandas の最大表示列数を設定 (max_rows で表示行数の設定も可能)\n",
    "pd.set_option('display.max_columns', 30)"
   ]
  },
  {
   "cell_type": "markdown",
   "metadata": {},
   "source": [
    "# 試行錯誤"
   ]
  },
  {
   "cell_type": "code",
   "execution_count": null,
   "metadata": {
    "ExecuteTime": {
     "end_time": "2018-05-12T03:59:37.648032Z",
     "start_time": "2018-05-12T03:59:37.632404Z"
    }
   },
   "outputs": [],
   "source": [
    "url = 'http://bbcsfx.acropolis.org.uk/'"
   ]
  },
  {
   "cell_type": "code",
   "execution_count": null,
   "metadata": {
    "ExecuteTime": {
     "end_time": "2018-05-12T03:59:48.302550Z",
     "start_time": "2018-05-12T03:59:43.211810Z"
    }
   },
   "outputs": [],
   "source": [
    "# ヘッドあり Chrome の WebDriver オブジェクトを作成する\n",
    "driver = webdriver.Chrome()"
   ]
  },
  {
   "cell_type": "code",
   "execution_count": null,
   "metadata": {
    "ExecuteTime": {
     "end_time": "2018-05-12T04:08:38.681723Z",
     "start_time": "2018-05-12T04:08:38.546722Z"
    }
   },
   "outputs": [],
   "source": [
    "driver.set_window_size(1200, 1000)"
   ]
  },
  {
   "cell_type": "code",
   "execution_count": null,
   "metadata": {
    "ExecuteTime": {
     "end_time": "2018-05-12T07:06:03.986853Z",
     "start_time": "2018-05-12T07:06:01.837908Z"
    }
   },
   "outputs": [],
   "source": [
    "# ページを開く\n",
    "driver.get(url)"
   ]
  },
  {
   "cell_type": "code",
   "execution_count": null,
   "metadata": {
    "ExecuteTime": {
     "end_time": "2018-05-12T07:13:02.312918Z",
     "start_time": "2018-05-12T07:13:02.281691Z"
    }
   },
   "outputs": [],
   "source": [
    "sort_description = driver.find_element_by_css_selector('#example > thead > tr > th:nth-child(1)')"
   ]
  },
  {
   "cell_type": "code",
   "execution_count": null,
   "metadata": {
    "ExecuteTime": {
     "end_time": "2018-05-12T07:15:02.727132Z",
     "start_time": "2018-05-12T07:15:02.584734Z"
    }
   },
   "outputs": [],
   "source": [
    "sort_description.click()"
   ]
  },
  {
   "cell_type": "code",
   "execution_count": null,
   "metadata": {
    "ExecuteTime": {
     "end_time": "2018-05-12T07:15:58.358866Z",
     "start_time": "2018-05-12T07:15:58.327590Z"
    }
   },
   "outputs": [],
   "source": [
    "sort_category = driver.find_element_by_css_selector('#example > thead > tr > th:nth-child(2)')"
   ]
  },
  {
   "cell_type": "code",
   "execution_count": null,
   "metadata": {
    "ExecuteTime": {
     "end_time": "2018-05-12T07:15:59.885770Z",
     "start_time": "2018-05-12T07:15:59.749591Z"
    }
   },
   "outputs": [],
   "source": [
    "sort_category.click()"
   ]
  },
  {
   "cell_type": "code",
   "execution_count": null,
   "metadata": {
    "ExecuteTime": {
     "end_time": "2018-05-12T05:34:10.571286Z",
     "start_time": "2018-05-12T05:34:10.493570Z"
    }
   },
   "outputs": [],
   "source": [
    "# Description\n",
    "driver.find_element_by_css_selector('#example > tbody > tr:nth-child(1) > td:nth-child(1)').text"
   ]
  },
  {
   "cell_type": "code",
   "execution_count": null,
   "metadata": {
    "ExecuteTime": {
     "end_time": "2018-05-12T05:34:12.243350Z",
     "start_time": "2018-05-12T05:34:12.181250Z"
    }
   },
   "outputs": [],
   "source": [
    "# Category\n",
    "driver.find_element_by_css_selector('#example > tbody > tr:nth-child(1) > td:nth-child(2)').text"
   ]
  },
  {
   "cell_type": "code",
   "execution_count": null,
   "metadata": {
    "ExecuteTime": {
     "end_time": "2018-05-12T06:40:11.049367Z",
     "start_time": "2018-05-12T06:40:10.986861Z"
    }
   },
   "outputs": [],
   "source": [
    "# Duration\n",
    "driver.find_element_by_css_selector('#example > tbody > tr:nth-child(1) > td:nth-child(3)').text"
   ]
  },
  {
   "cell_type": "code",
   "execution_count": null,
   "metadata": {
    "ExecuteTime": {
     "end_time": "2018-05-12T05:34:13.697182Z",
     "start_time": "2018-05-12T05:34:13.649711Z"
    },
    "scrolled": true
   },
   "outputs": [],
   "source": [
    "# URL\n",
    "driver.find_element_by_css_selector('#example > tbody > tr:nth-child(1) > td:nth-child(5) > a').get_attribute('href')"
   ]
  },
  {
   "cell_type": "code",
   "execution_count": null,
   "metadata": {
    "ExecuteTime": {
     "end_time": "2018-05-12T06:26:51.720462Z",
     "start_time": "2018-05-12T06:26:50.774946Z"
    },
    "collapsed": true
   },
   "outputs": [],
   "source": [
    "# Description\n",
    "for tr in trs:\n",
    "    print(tr.find_element_by_css_selector('td:nth-child(1)').text)"
   ]
  },
  {
   "cell_type": "code",
   "execution_count": null,
   "metadata": {
    "ExecuteTime": {
     "end_time": "2018-05-12T06:05:47.561296Z",
     "start_time": "2018-05-12T06:05:44.886478Z"
    },
    "collapsed": true
   },
   "outputs": [],
   "source": [
    "# Category\n",
    "for tr in trs:\n",
    "    print(tr.find_element_by_css_selector('td:nth-child(2)').text)"
   ]
  },
  {
   "cell_type": "code",
   "execution_count": null,
   "metadata": {
    "ExecuteTime": {
     "end_time": "2018-05-12T06:06:15.595342Z",
     "start_time": "2018-05-12T06:06:13.189282Z"
    },
    "collapsed": true
   },
   "outputs": [],
   "source": [
    "# Duration\n",
    "for tr in trs:\n",
    "    print(tr.find_element_by_css_selector('td:nth-child(3)').text)"
   ]
  },
  {
   "cell_type": "code",
   "execution_count": null,
   "metadata": {
    "ExecuteTime": {
     "end_time": "2018-05-12T06:07:42.236430Z",
     "start_time": "2018-05-12T06:07:40.833401Z"
    },
    "collapsed": true
   },
   "outputs": [],
   "source": [
    "# URL\n",
    "for tr in trs:\n",
    "    print(tr.find_element_by_css_selector('td:nth-child(5) > a').get_attribute('href'))"
   ]
  },
  {
   "cell_type": "code",
   "execution_count": null,
   "metadata": {
    "ExecuteTime": {
     "end_time": "2018-05-12T06:36:44.677229Z",
     "start_time": "2018-05-12T06:36:44.646393Z"
    }
   },
   "outputs": [],
   "source": [
    "tbl = driver.find_element_by_css_selector('#example > tbody')"
   ]
  },
  {
   "cell_type": "code",
   "execution_count": null,
   "metadata": {
    "ExecuteTime": {
     "end_time": "2018-05-12T06:36:47.661884Z",
     "start_time": "2018-05-12T06:36:47.630767Z"
    }
   },
   "outputs": [],
   "source": [
    "trs = tbl.find_elements(By.TAG_NAME, 'tr')"
   ]
  },
  {
   "cell_type": "code",
   "execution_count": null,
   "metadata": {
    "ExecuteTime": {
     "end_time": "2018-05-12T06:36:48.474470Z",
     "start_time": "2018-05-12T06:36:48.459289Z"
    }
   },
   "outputs": [],
   "source": [
    "len(trs)"
   ]
  },
  {
   "cell_type": "code",
   "execution_count": null,
   "metadata": {
    "ExecuteTime": {
     "end_time": "2018-05-12T06:37:02.632404Z",
     "start_time": "2018-05-12T06:37:01.835713Z"
    }
   },
   "outputs": [],
   "source": [
    "urls = []\n",
    "for tr in trs:\n",
    "    urls.append(tr.find_element_by_css_selector('td:nth-child(5) > a').get_attribute('href'))"
   ]
  },
  {
   "cell_type": "code",
   "execution_count": null,
   "metadata": {
    "ExecuteTime": {
     "end_time": "2018-05-12T06:37:03.397936Z",
     "start_time": "2018-05-12T06:37:03.382341Z"
    },
    "collapsed": true
   },
   "outputs": [],
   "source": [
    "urls"
   ]
  },
  {
   "cell_type": "code",
   "execution_count": null,
   "metadata": {
    "ExecuteTime": {
     "end_time": "2018-05-12T06:10:40.283623Z",
     "start_time": "2018-05-12T06:10:40.252796Z"
    }
   },
   "outputs": [],
   "source": [
    "result = driver.page_source"
   ]
  },
  {
   "cell_type": "code",
   "execution_count": null,
   "metadata": {
    "ExecuteTime": {
     "end_time": "2018-05-12T06:17:01.549014Z",
     "start_time": "2018-05-12T06:17:01.454944Z"
    }
   },
   "outputs": [],
   "source": [
    "df = pd.read_html(driver.page_source, header=0)[0]"
   ]
  },
  {
   "cell_type": "code",
   "execution_count": null,
   "metadata": {
    "ExecuteTime": {
     "end_time": "2018-05-12T06:17:12.231156Z",
     "start_time": "2018-05-12T06:17:12.215528Z"
    }
   },
   "outputs": [],
   "source": [
    "df['URL'] = urls"
   ]
  },
  {
   "cell_type": "code",
   "execution_count": null,
   "metadata": {
    "ExecuteTime": {
     "end_time": "2018-05-12T06:43:39.493746Z",
     "start_time": "2018-05-12T06:43:39.478118Z"
    }
   },
   "outputs": [],
   "source": [
    "df = df.iloc[:,[0, 1, 2, 5]]"
   ]
  },
  {
   "cell_type": "code",
   "execution_count": null,
   "metadata": {
    "ExecuteTime": {
     "end_time": "2018-05-12T06:43:40.790764Z",
     "start_time": "2018-05-12T06:43:40.759504Z"
    },
    "collapsed": true
   },
   "outputs": [],
   "source": [
    "df"
   ]
  },
  {
   "cell_type": "code",
   "execution_count": null,
   "metadata": {
    "ExecuteTime": {
     "end_time": "2018-05-12T06:51:26.305888Z",
     "start_time": "2018-05-12T06:51:26.275043Z"
    }
   },
   "outputs": [],
   "source": [
    "next_btn = driver.find_element_by_id('example_next')"
   ]
  },
  {
   "cell_type": "code",
   "execution_count": null,
   "metadata": {
    "ExecuteTime": {
     "end_time": "2018-05-12T06:51:27.455592Z",
     "start_time": "2018-05-12T06:51:27.384363Z"
    }
   },
   "outputs": [],
   "source": [
    "next_btn.click()"
   ]
  },
  {
   "cell_type": "code",
   "execution_count": null,
   "metadata": {
    "ExecuteTime": {
     "end_time": "2018-05-12T07:23:44.912753Z",
     "start_time": "2018-05-12T07:23:44.897138Z"
    }
   },
   "outputs": [],
   "source": [
    "bbc_se = pd.DataFrame()"
   ]
  },
  {
   "cell_type": "code",
   "execution_count": null,
   "metadata": {
    "ExecuteTime": {
     "end_time": "2018-05-12T06:55:03.007294Z",
     "start_time": "2018-05-12T06:55:02.991964Z"
    }
   },
   "outputs": [],
   "source": [
    "bbc_se = bbc_se.append(df)"
   ]
  },
  {
   "cell_type": "code",
   "execution_count": null,
   "metadata": {
    "ExecuteTime": {
     "end_time": "2018-05-12T07:52:53.313543Z",
     "start_time": "2018-05-12T07:52:53.282288Z"
    },
    "collapsed": true
   },
   "outputs": [],
   "source": [
    "bbc_se"
   ]
  },
  {
   "cell_type": "markdown",
   "metadata": {},
   "source": [
    "# 完成"
   ]
  },
  {
   "cell_type": "code",
   "execution_count": null,
   "metadata": {
    "ExecuteTime": {
     "end_time": "2018-05-12T03:59:37.648032Z",
     "start_time": "2018-05-12T03:59:37.632404Z"
    }
   },
   "outputs": [],
   "source": [
    "url = 'http://bbcsfx.acropolis.org.uk/'"
   ]
  },
  {
   "cell_type": "code",
   "execution_count": null,
   "metadata": {
    "ExecuteTime": {
     "end_time": "2018-05-12T03:59:48.302550Z",
     "start_time": "2018-05-12T03:59:43.211810Z"
    }
   },
   "outputs": [],
   "source": [
    "# ヘッドあり Chrome の WebDriver オブジェクトを作成する\n",
    "driver = webdriver.Chrome()\n",
    "driver.set_window_size(1200, 1000)\n",
    "\n",
    "# ページを開く\n",
    "driver.get(url)\n",
    "\n",
    "sort_description = driver.find_element_by_css_selector('#example > thead > tr > th:nth-child(1)')\n",
    "sort_description.click()\n",
    "sort_category = driver.find_element_by_css_selector('#example > thead > tr > th:nth-child(2)')\n",
    "sort_category.click()"
   ]
  },
  {
   "cell_type": "code",
   "execution_count": null,
   "metadata": {
    "ExecuteTime": {
     "end_time": "2018-05-12T07:23:44.912753Z",
     "start_time": "2018-05-12T07:23:44.897138Z"
    }
   },
   "outputs": [],
   "source": [
    "bbc_se = pd.DataFrame()\n",
    "\n",
    "for i in range(1, 642):\n",
    "    print('page {0}'.format(i))\n",
    "    \n",
    "    result = driver.page_source\n",
    "    df = pd.read_html(driver.page_source, header=0)[0]\n",
    "\n",
    "    tbl = driver.find_element_by_css_selector('#example > tbody')\n",
    "    trs = tbl.find_elements(By.TAG_NAME, 'tr')\n",
    "    urls = []\n",
    "    for tr in trs:\n",
    "        urls.append(tr.find_element_by_css_selector('td:nth-child(5) > a').get_attribute('href'))\n",
    "\n",
    "    df['URL'] = urls\n",
    "    df = df.iloc[:,[0, 1, 2, 5]]\n",
    "\n",
    "    bbc_se = bbc_se.append(df)\n",
    "\n",
    "    next_btn = driver.find_element_by_id('example_next')\n",
    "    next_btn.click()\n",
    "    time.sleep(1)"
   ]
  },
  {
   "cell_type": "code",
   "execution_count": null,
   "metadata": {
    "ExecuteTime": {
     "end_time": "2018-05-12T07:54:56.429540Z",
     "start_time": "2018-05-12T07:54:56.413874Z"
    }
   },
   "outputs": [],
   "source": [
    "bbc_se = bbc_se.reset_index(drop=True)"
   ]
  },
  {
   "cell_type": "code",
   "execution_count": null,
   "metadata": {},
   "outputs": [],
   "source": [
    "bbc_se"
   ]
  },
  {
   "cell_type": "code",
   "execution_count": null,
   "metadata": {
    "ExecuteTime": {
     "end_time": "2018-05-12T07:55:55.302508Z",
     "start_time": "2018-05-12T07:55:55.177495Z"
    }
   },
   "outputs": [],
   "source": [
    "bbc_se.to_csv('BBC_SE.csv')"
   ]
  },
  {
   "cell_type": "code",
   "execution_count": null,
   "metadata": {},
   "outputs": [],
   "source": [
    "# driver を終了\n",
    "driver.quit()"
   ]
  }
 ],
 "metadata": {
  "kernelspec": {
   "display_name": "Python 3",
   "language": "python",
   "name": "python3"
  },
  "language_info": {
   "codemirror_mode": {
    "name": "ipython",
    "version": 3
   },
   "file_extension": ".py",
   "mimetype": "text/x-python",
   "name": "python",
   "nbconvert_exporter": "python",
   "pygments_lexer": "ipython3",
   "version": "3.6.4"
  },
  "toc": {
   "nav_menu": {},
   "number_sections": true,
   "sideBar": true,
   "skip_h1_title": false,
   "toc_cell": false,
   "toc_position": {},
   "toc_section_display": "block",
   "toc_window_display": false
  }
 },
 "nbformat": 4,
 "nbformat_minor": 2
}
