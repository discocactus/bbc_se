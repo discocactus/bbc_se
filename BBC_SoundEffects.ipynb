{
 "cells": [
  {
   "cell_type": "markdown",
   "metadata": {},
   "source": [
    "# 準備"
   ]
  },
  {
   "cell_type": "code",
   "execution_count": null,
   "metadata": {
    "ExecuteTime": {
     "end_time": "2018-05-13T05:55:19.296288Z",
     "start_time": "2018-05-13T05:55:18.811819Z"
    }
   },
   "outputs": [],
   "source": [
    "import pandas as pd\n",
    "import sys\n",
    "import time\n",
    "import re\n",
    "import wget\n",
    "from selenium import webdriver\n",
    "from selenium.webdriver.common.by import By\n",
    "# from selenium.webdriver.common.keys import Keys\n",
    "# from selenium.webdriver.support.select import Select\n",
    "# from selenium.webdriver.support.ui import WebDriverWait\n",
    "# from selenium.webdriver.support import expected_conditions as EC\n",
    "# from selenium.webdriver.chrome.options import Options"
   ]
  },
  {
   "cell_type": "code",
   "execution_count": null,
   "metadata": {
    "ExecuteTime": {
     "end_time": "2018-05-12T14:09:33.215053Z",
     "start_time": "2018-05-12T14:09:33.199426Z"
    }
   },
   "outputs": [],
   "source": [
    "# pandas の最大表示列数を設定 (max_rows で表示行数の設定も可能)\n",
    "pd.set_option('display.max_columns', 30)"
   ]
  },
  {
   "cell_type": "markdown",
   "metadata": {},
   "source": [
    "# 試行錯誤"
   ]
  },
  {
   "cell_type": "code",
   "execution_count": null,
   "metadata": {
    "ExecuteTime": {
     "end_time": "2018-05-12T03:59:37.648032Z",
     "start_time": "2018-05-12T03:59:37.632404Z"
    }
   },
   "outputs": [],
   "source": [
    "url = 'http://bbcsfx.acropolis.org.uk/'"
   ]
  },
  {
   "cell_type": "code",
   "execution_count": null,
   "metadata": {
    "ExecuteTime": {
     "end_time": "2018-05-12T03:59:48.302550Z",
     "start_time": "2018-05-12T03:59:43.211810Z"
    }
   },
   "outputs": [],
   "source": [
    "# ヘッドあり Chrome の WebDriver オブジェクトを作成する\n",
    "driver = webdriver.Chrome()"
   ]
  },
  {
   "cell_type": "code",
   "execution_count": null,
   "metadata": {
    "ExecuteTime": {
     "end_time": "2018-05-12T04:08:38.681723Z",
     "start_time": "2018-05-12T04:08:38.546722Z"
    }
   },
   "outputs": [],
   "source": [
    "driver.set_window_size(1200, 1000)"
   ]
  },
  {
   "cell_type": "code",
   "execution_count": null,
   "metadata": {
    "ExecuteTime": {
     "end_time": "2018-05-12T07:06:03.986853Z",
     "start_time": "2018-05-12T07:06:01.837908Z"
    }
   },
   "outputs": [],
   "source": [
    "# ページを開く\n",
    "driver.get(url)"
   ]
  },
  {
   "cell_type": "code",
   "execution_count": null,
   "metadata": {
    "ExecuteTime": {
     "end_time": "2018-05-12T07:13:02.312918Z",
     "start_time": "2018-05-12T07:13:02.281691Z"
    }
   },
   "outputs": [],
   "source": [
    "sort_description = driver.find_element_by_css_selector('#example > thead > tr > th:nth-child(1)')"
   ]
  },
  {
   "cell_type": "code",
   "execution_count": null,
   "metadata": {
    "ExecuteTime": {
     "end_time": "2018-05-12T07:15:02.727132Z",
     "start_time": "2018-05-12T07:15:02.584734Z"
    }
   },
   "outputs": [],
   "source": [
    "sort_description.click()"
   ]
  },
  {
   "cell_type": "code",
   "execution_count": null,
   "metadata": {
    "ExecuteTime": {
     "end_time": "2018-05-12T07:15:58.358866Z",
     "start_time": "2018-05-12T07:15:58.327590Z"
    }
   },
   "outputs": [],
   "source": [
    "sort_category = driver.find_element_by_css_selector('#example > thead > tr > th:nth-child(2)')"
   ]
  },
  {
   "cell_type": "code",
   "execution_count": null,
   "metadata": {
    "ExecuteTime": {
     "end_time": "2018-05-12T07:15:59.885770Z",
     "start_time": "2018-05-12T07:15:59.749591Z"
    }
   },
   "outputs": [],
   "source": [
    "sort_category.click()"
   ]
  },
  {
   "cell_type": "code",
   "execution_count": null,
   "metadata": {
    "ExecuteTime": {
     "end_time": "2018-05-12T05:34:10.571286Z",
     "start_time": "2018-05-12T05:34:10.493570Z"
    }
   },
   "outputs": [],
   "source": [
    "# Description\n",
    "driver.find_element_by_css_selector('#example > tbody > tr:nth-child(1) > td:nth-child(1)').text"
   ]
  },
  {
   "cell_type": "code",
   "execution_count": null,
   "metadata": {
    "ExecuteTime": {
     "end_time": "2018-05-12T05:34:12.243350Z",
     "start_time": "2018-05-12T05:34:12.181250Z"
    }
   },
   "outputs": [],
   "source": [
    "# Category\n",
    "driver.find_element_by_css_selector('#example > tbody > tr:nth-child(1) > td:nth-child(2)').text"
   ]
  },
  {
   "cell_type": "code",
   "execution_count": null,
   "metadata": {
    "ExecuteTime": {
     "end_time": "2018-05-12T06:40:11.049367Z",
     "start_time": "2018-05-12T06:40:10.986861Z"
    }
   },
   "outputs": [],
   "source": [
    "# Duration\n",
    "driver.find_element_by_css_selector('#example > tbody > tr:nth-child(1) > td:nth-child(3)').text"
   ]
  },
  {
   "cell_type": "code",
   "execution_count": null,
   "metadata": {
    "ExecuteTime": {
     "end_time": "2018-05-12T05:34:13.697182Z",
     "start_time": "2018-05-12T05:34:13.649711Z"
    },
    "scrolled": true
   },
   "outputs": [],
   "source": [
    "# URL\n",
    "driver.find_element_by_css_selector('#example > tbody > tr:nth-child(1) > td:nth-child(5) > a').get_attribute('href')"
   ]
  },
  {
   "cell_type": "code",
   "execution_count": null,
   "metadata": {
    "ExecuteTime": {
     "end_time": "2018-05-12T06:26:51.720462Z",
     "start_time": "2018-05-12T06:26:50.774946Z"
    },
    "collapsed": true
   },
   "outputs": [],
   "source": [
    "# Description\n",
    "for tr in trs:\n",
    "    print(tr.find_element_by_css_selector('td:nth-child(1)').text)"
   ]
  },
  {
   "cell_type": "code",
   "execution_count": null,
   "metadata": {
    "ExecuteTime": {
     "end_time": "2018-05-12T06:05:47.561296Z",
     "start_time": "2018-05-12T06:05:44.886478Z"
    },
    "collapsed": true
   },
   "outputs": [],
   "source": [
    "# Category\n",
    "for tr in trs:\n",
    "    print(tr.find_element_by_css_selector('td:nth-child(2)').text)"
   ]
  },
  {
   "cell_type": "code",
   "execution_count": null,
   "metadata": {
    "ExecuteTime": {
     "end_time": "2018-05-12T06:06:15.595342Z",
     "start_time": "2018-05-12T06:06:13.189282Z"
    },
    "collapsed": true
   },
   "outputs": [],
   "source": [
    "# Duration\n",
    "for tr in trs:\n",
    "    print(tr.find_element_by_css_selector('td:nth-child(3)').text)"
   ]
  },
  {
   "cell_type": "code",
   "execution_count": null,
   "metadata": {
    "ExecuteTime": {
     "end_time": "2018-05-12T06:07:42.236430Z",
     "start_time": "2018-05-12T06:07:40.833401Z"
    },
    "collapsed": true
   },
   "outputs": [],
   "source": [
    "# URL\n",
    "for tr in trs:\n",
    "    print(tr.find_element_by_css_selector('td:nth-child(5) > a').get_attribute('href'))"
   ]
  },
  {
   "cell_type": "code",
   "execution_count": null,
   "metadata": {
    "ExecuteTime": {
     "end_time": "2018-05-12T06:36:44.677229Z",
     "start_time": "2018-05-12T06:36:44.646393Z"
    }
   },
   "outputs": [],
   "source": [
    "tbl = driver.find_element_by_css_selector('#example > tbody')"
   ]
  },
  {
   "cell_type": "code",
   "execution_count": null,
   "metadata": {
    "ExecuteTime": {
     "end_time": "2018-05-12T06:36:47.661884Z",
     "start_time": "2018-05-12T06:36:47.630767Z"
    }
   },
   "outputs": [],
   "source": [
    "trs = tbl.find_elements(By.TAG_NAME, 'tr')"
   ]
  },
  {
   "cell_type": "code",
   "execution_count": null,
   "metadata": {
    "ExecuteTime": {
     "end_time": "2018-05-12T06:36:48.474470Z",
     "start_time": "2018-05-12T06:36:48.459289Z"
    }
   },
   "outputs": [],
   "source": [
    "len(trs)"
   ]
  },
  {
   "cell_type": "code",
   "execution_count": null,
   "metadata": {
    "ExecuteTime": {
     "end_time": "2018-05-12T06:37:02.632404Z",
     "start_time": "2018-05-12T06:37:01.835713Z"
    }
   },
   "outputs": [],
   "source": [
    "urls = []\n",
    "for tr in trs:\n",
    "    urls.append(tr.find_element_by_css_selector('td:nth-child(5) > a').get_attribute('href'))"
   ]
  },
  {
   "cell_type": "code",
   "execution_count": null,
   "metadata": {
    "ExecuteTime": {
     "end_time": "2018-05-12T06:37:03.397936Z",
     "start_time": "2018-05-12T06:37:03.382341Z"
    },
    "collapsed": true
   },
   "outputs": [],
   "source": [
    "urls"
   ]
  },
  {
   "cell_type": "code",
   "execution_count": null,
   "metadata": {
    "ExecuteTime": {
     "end_time": "2018-05-12T06:10:40.283623Z",
     "start_time": "2018-05-12T06:10:40.252796Z"
    }
   },
   "outputs": [],
   "source": [
    "result = driver.page_source"
   ]
  },
  {
   "cell_type": "code",
   "execution_count": null,
   "metadata": {
    "ExecuteTime": {
     "end_time": "2018-05-12T06:17:01.549014Z",
     "start_time": "2018-05-12T06:17:01.454944Z"
    }
   },
   "outputs": [],
   "source": [
    "df = pd.read_html(driver.page_source, header=0)[0]"
   ]
  },
  {
   "cell_type": "code",
   "execution_count": null,
   "metadata": {
    "ExecuteTime": {
     "end_time": "2018-05-12T06:17:12.231156Z",
     "start_time": "2018-05-12T06:17:12.215528Z"
    }
   },
   "outputs": [],
   "source": [
    "df['URL'] = urls"
   ]
  },
  {
   "cell_type": "code",
   "execution_count": null,
   "metadata": {
    "ExecuteTime": {
     "end_time": "2018-05-12T06:43:39.493746Z",
     "start_time": "2018-05-12T06:43:39.478118Z"
    }
   },
   "outputs": [],
   "source": [
    "df = df.iloc[:,[0, 1, 2, 5]]"
   ]
  },
  {
   "cell_type": "code",
   "execution_count": null,
   "metadata": {
    "ExecuteTime": {
     "end_time": "2018-05-12T06:43:40.790764Z",
     "start_time": "2018-05-12T06:43:40.759504Z"
    },
    "collapsed": true
   },
   "outputs": [],
   "source": [
    "df"
   ]
  },
  {
   "cell_type": "code",
   "execution_count": null,
   "metadata": {
    "ExecuteTime": {
     "end_time": "2018-05-12T06:51:26.305888Z",
     "start_time": "2018-05-12T06:51:26.275043Z"
    }
   },
   "outputs": [],
   "source": [
    "next_btn = driver.find_element_by_id('example_next')"
   ]
  },
  {
   "cell_type": "code",
   "execution_count": null,
   "metadata": {
    "ExecuteTime": {
     "end_time": "2018-05-12T06:51:27.455592Z",
     "start_time": "2018-05-12T06:51:27.384363Z"
    }
   },
   "outputs": [],
   "source": [
    "next_btn.click()"
   ]
  },
  {
   "cell_type": "code",
   "execution_count": null,
   "metadata": {
    "ExecuteTime": {
     "end_time": "2018-05-12T07:23:44.912753Z",
     "start_time": "2018-05-12T07:23:44.897138Z"
    }
   },
   "outputs": [],
   "source": [
    "bbc_se = pd.DataFrame()"
   ]
  },
  {
   "cell_type": "code",
   "execution_count": null,
   "metadata": {
    "ExecuteTime": {
     "end_time": "2018-05-12T06:55:03.007294Z",
     "start_time": "2018-05-12T06:55:02.991964Z"
    }
   },
   "outputs": [],
   "source": [
    "bbc_se = bbc_se.append(df)"
   ]
  },
  {
   "cell_type": "code",
   "execution_count": null,
   "metadata": {
    "ExecuteTime": {
     "end_time": "2018-05-12T07:52:53.313543Z",
     "start_time": "2018-05-12T07:52:53.282288Z"
    },
    "collapsed": true
   },
   "outputs": [],
   "source": [
    "bbc_se"
   ]
  },
  {
   "cell_type": "markdown",
   "metadata": {},
   "source": [
    "# リスト完成"
   ]
  },
  {
   "cell_type": "code",
   "execution_count": null,
   "metadata": {
    "ExecuteTime": {
     "end_time": "2018-05-12T03:59:37.648032Z",
     "start_time": "2018-05-12T03:59:37.632404Z"
    }
   },
   "outputs": [],
   "source": [
    "url = 'http://bbcsfx.acropolis.org.uk/'"
   ]
  },
  {
   "cell_type": "code",
   "execution_count": null,
   "metadata": {
    "ExecuteTime": {
     "end_time": "2018-05-12T03:59:48.302550Z",
     "start_time": "2018-05-12T03:59:43.211810Z"
    }
   },
   "outputs": [],
   "source": [
    "# ヘッドあり Chrome の WebDriver オブジェクトを作成する\n",
    "driver = webdriver.Chrome()\n",
    "driver.set_window_size(1200, 1000)\n",
    "\n",
    "# ページを開く\n",
    "driver.get(url)\n",
    "\n",
    "sort_description = driver.find_element_by_css_selector('#example > thead > tr > th:nth-child(1)')\n",
    "sort_description.click()\n",
    "sort_category = driver.find_element_by_css_selector('#example > thead > tr > th:nth-child(2)')\n",
    "sort_category.click()"
   ]
  },
  {
   "cell_type": "code",
   "execution_count": null,
   "metadata": {
    "ExecuteTime": {
     "end_time": "2018-05-12T07:23:44.912753Z",
     "start_time": "2018-05-12T07:23:44.897138Z"
    }
   },
   "outputs": [],
   "source": [
    "bbc_se = pd.DataFrame()\n",
    "\n",
    "for i in range(1, 642):\n",
    "    print('page {0}'.format(i))\n",
    "    \n",
    "    result = driver.page_source\n",
    "    df = pd.read_html(driver.page_source, header=0)[0]\n",
    "\n",
    "    tbl = driver.find_element_by_css_selector('#example > tbody')\n",
    "    trs = tbl.find_elements(By.TAG_NAME, 'tr')\n",
    "    urls = []\n",
    "    for tr in trs:\n",
    "        urls.append(tr.find_element_by_css_selector('td:nth-child(5) > a').get_attribute('href'))\n",
    "\n",
    "    df['URL'] = urls\n",
    "    df = df.iloc[:,[0, 1, 2, 5]]\n",
    "\n",
    "    bbc_se = bbc_se.append(df)\n",
    "\n",
    "    next_btn = driver.find_element_by_id('example_next')\n",
    "    next_btn.click()\n",
    "    time.sleep(1)"
   ]
  },
  {
   "cell_type": "code",
   "execution_count": null,
   "metadata": {},
   "outputs": [],
   "source": [
    "# driver を終了\n",
    "driver.quit()"
   ]
  },
  {
   "cell_type": "code",
   "execution_count": null,
   "metadata": {
    "ExecuteTime": {
     "end_time": "2018-05-12T07:54:56.429540Z",
     "start_time": "2018-05-12T07:54:56.413874Z"
    }
   },
   "outputs": [],
   "source": [
    "bbc_se = bbc_se.reset_index(drop=True)"
   ]
  },
  {
   "cell_type": "code",
   "execution_count": null,
   "metadata": {
    "ExecuteTime": {
     "end_time": "2018-05-13T05:56:52.888156Z",
     "start_time": "2018-05-13T05:56:52.857312Z"
    }
   },
   "outputs": [],
   "source": [
    "bbc_se['file_name'] = \"\""
   ]
  },
  {
   "cell_type": "code",
   "execution_count": null,
   "metadata": {
    "ExecuteTime": {
     "end_time": "2018-05-13T06:11:23.363339Z",
     "start_time": "2018-05-13T06:11:23.347706Z"
    }
   },
   "outputs": [],
   "source": [
    "bbc_se.loc[9, 'file_name']"
   ]
  },
  {
   "cell_type": "code",
   "execution_count": null,
   "metadata": {
    "ExecuteTime": {
     "end_time": "2018-05-13T06:00:46.096293Z",
     "start_time": "2018-05-13T06:00:34.074513Z"
    },
    "scrolled": true
   },
   "outputs": [],
   "source": [
    "for idx in range(len(bbc_se)):\n",
    "    bbc_se.loc[idx, 'file_name'] = '{0}_{1}.wav'.format(re.search(r'[0-9]+', bbc_se['URL'][idx]).group(),\n",
    "                                                        re.sub(\"[\\\\/:*?\\\"<>| `',.~!@#$%^&*;]\", '_', bbc_se['Description'][idx]))"
   ]
  },
  {
   "cell_type": "code",
   "execution_count": null,
   "metadata": {
    "ExecuteTime": {
     "end_time": "2018-05-13T06:00:49.877701Z",
     "start_time": "2018-05-13T06:00:49.831222Z"
    },
    "scrolled": true
   },
   "outputs": [],
   "source": [
    "bbc_se"
   ]
  },
  {
   "cell_type": "code",
   "execution_count": null,
   "metadata": {
    "ExecuteTime": {
     "end_time": "2018-05-13T06:01:25.128161Z",
     "start_time": "2018-05-13T06:01:24.987966Z"
    }
   },
   "outputs": [],
   "source": [
    "bbc_se.to_csv('BBC_SE.csv')"
   ]
  },
  {
   "cell_type": "markdown",
   "metadata": {},
   "source": [
    "# ダウンロード"
   ]
  },
  {
   "cell_type": "raw",
   "metadata": {},
   "source": [
    "# ファイル名使用禁止文字\n",
    "# \\/：*?\"<>|\n",
    "# 追加で使用したくない文字\n",
    "#  ',.!@#$%^&*;"
   ]
  },
  {
   "cell_type": "code",
   "execution_count": null,
   "metadata": {
    "ExecuteTime": {
     "end_time": "2018-05-13T05:55:34.239094Z",
     "start_time": "2018-05-13T05:55:34.176126Z"
    }
   },
   "outputs": [],
   "source": [
    "bbc_se = pd.read_csv('BBC_SE.csv', index_col=0)"
   ]
  },
  {
   "cell_type": "code",
   "execution_count": null,
   "metadata": {},
   "outputs": [],
   "source": [
    "bbc_se['Description'][8]"
   ]
  },
  {
   "cell_type": "code",
   "execution_count": null,
   "metadata": {
    "ExecuteTime": {
     "end_time": "2018-05-12T14:26:41.363279Z",
     "start_time": "2018-05-12T14:26:41.347640Z"
    }
   },
   "outputs": [],
   "source": [
    "re.sub(\"[\\\\/:*?\\\"<>| `',.~!@#$%^&*;]\", '_', bbc_se['Description'][8])"
   ]
  },
  {
   "cell_type": "code",
   "execution_count": null,
   "metadata": {
    "ExecuteTime": {
     "end_time": "2018-05-12T14:20:31.003665Z",
     "start_time": "2018-05-12T14:20:30.988039Z"
    }
   },
   "outputs": [],
   "source": [
    "bbc_se['URL'][8]"
   ]
  },
  {
   "cell_type": "code",
   "execution_count": null,
   "metadata": {
    "ExecuteTime": {
     "end_time": "2018-05-12T14:22:32.781985Z",
     "start_time": "2018-05-12T14:22:32.751139Z"
    }
   },
   "outputs": [],
   "source": [
    "re.search(r'[0-9]+', bbc_se['URL'][8]).group()"
   ]
  },
  {
   "cell_type": "code",
   "execution_count": null,
   "metadata": {
    "ExecuteTime": {
     "end_time": "2018-05-13T00:31:43.616478Z",
     "start_time": "2018-05-13T00:31:43.600888Z"
    }
   },
   "outputs": [],
   "source": [
    "'D:\\BBC_SE\\{0}_{1}.wav'.format(re.search(r'[0-9]+', bbc_se['URL'][8]).group(),\n",
    "                              re.sub(\"[\\\\/:*?\\\"<>| `',.~!@#$%^&*;]\", '_', bbc_se['Description'][8]))"
   ]
  },
  {
   "cell_type": "code",
   "execution_count": null,
   "metadata": {
    "ExecuteTime": {
     "end_time": "2018-05-13T00:32:58.882291Z",
     "start_time": "2018-05-13T00:32:53.350404Z"
    }
   },
   "outputs": [],
   "source": [
    "wget.download(url=bbc_se['URL'][8], out='D:\\BBC_SE\\{0}_{1}.wav'.format(\n",
    "    re.search(r'[0-9]+', bbc_se['URL'][8]).group(),\n",
    "    re.sub(\"[\\\\/:*?\\\"<>| `',.~!@#$%^&*;]\", '_', bbc_se['Description'][8])))"
   ]
  },
  {
   "cell_type": "code",
   "execution_count": null,
   "metadata": {
    "ExecuteTime": {
     "end_time": "2018-05-13T06:57:03.500910Z",
     "start_time": "2018-05-13T06:57:03.470103Z"
    }
   },
   "outputs": [],
   "source": [
    "failed = []"
   ]
  },
  {
   "cell_type": "code",
   "execution_count": null,
   "metadata": {
    "ExecuteTime": {
     "end_time": "2018-05-13T13:36:43.538053Z",
     "start_time": "2018-05-13T07:31:57.066243Z"
    }
   },
   "outputs": [],
   "source": [
    "for idx in range(200, 1000):\n",
    "    try:\n",
    "        wget.download(url=bbc_se['URL'][idx], out='D:\\BBC_SE\\{0}'.format(bbc_se['file_name'][idx]))\n",
    "    except Exception as e:\n",
    "        print('\\n{0}: {1}\\n'.format(idx, e))\n",
    "        failed.append(idx)"
   ]
  },
  {
   "cell_type": "code",
   "execution_count": null,
   "metadata": {
    "ExecuteTime": {
     "end_time": "2018-05-13T13:40:02.844183Z",
     "start_time": "2018-05-13T13:40:02.828558Z"
    }
   },
   "outputs": [],
   "source": [
    "failed"
   ]
  },
  {
   "cell_type": "code",
   "execution_count": null,
   "metadata": {},
   "outputs": [],
   "source": [
    "pd.Series(failed).to_csv('download_failed.csv')"
   ]
  },
  {
   "cell_type": "code",
   "execution_count": null,
   "metadata": {
    "ExecuteTime": {
     "end_time": "2018-05-13T13:49:26.784657Z",
     "start_time": "2018-05-13T13:49:26.769232Z"
    }
   },
   "outputs": [],
   "source": [
    "bbc_se['file_name'][741]"
   ]
  },
  {
   "cell_type": "code",
   "execution_count": null,
   "metadata": {
    "ExecuteTime": {
     "end_time": "2018-05-13T13:50:28.860003Z",
     "start_time": "2018-05-13T13:49:49.662092Z"
    }
   },
   "outputs": [],
   "source": [
    "idx = 741\n",
    "wget.download(url=bbc_se['URL'][idx], out='D:\\BBC_SE\\{0}'.format(bbc_se['file_name'][idx]))"
   ]
  },
  {
   "cell_type": "code",
   "execution_count": null,
   "metadata": {
    "ExecuteTime": {
     "end_time": "2018-05-13T06:49:50.214995Z",
     "start_time": "2018-05-13T06:49:50.183695Z"
    }
   },
   "outputs": [],
   "source": [
    "list(range(110, 120))"
   ]
  },
  {
   "cell_type": "code",
   "execution_count": null,
   "metadata": {},
   "outputs": [],
   "source": []
  }
 ],
 "metadata": {
  "kernelspec": {
   "display_name": "Python 3",
   "language": "python",
   "name": "python3"
  },
  "language_info": {
   "codemirror_mode": {
    "name": "ipython",
    "version": 3
   },
   "file_extension": ".py",
   "mimetype": "text/x-python",
   "name": "python",
   "nbconvert_exporter": "python",
   "pygments_lexer": "ipython3",
   "version": "3.6.4"
  },
  "toc": {
   "nav_menu": {},
   "number_sections": true,
   "sideBar": true,
   "skip_h1_title": false,
   "toc_cell": false,
   "toc_position": {},
   "toc_section_display": "block",
   "toc_window_display": false
  }
 },
 "nbformat": 4,
 "nbformat_minor": 2
}
