{
 "cells": [
  {
   "cell_type": "markdown",
   "metadata": {},
   "source": [
    "# 準備"
   ]
  },
  {
   "cell_type": "code",
   "execution_count": null,
   "metadata": {
    "collapsed": true
   },
   "outputs": [],
   "source": [
    "import pandas as pd\n",
    "import sys\n",
    "import time\n",
    "import re\n",
    "import matplotlib.pyplot as plt\n",
    "%matplotlib inline"
   ]
  },
  {
   "cell_type": "code",
   "execution_count": null,
   "metadata": {
    "ExecuteTime": {
     "end_time": "2018-05-24T07:56:52.179964Z",
     "start_time": "2018-05-24T07:56:51.309260Z"
    },
    "collapsed": true
   },
   "outputs": [],
   "source": [
    "import wget"
   ]
  },
  {
   "cell_type": "code",
   "execution_count": null,
   "metadata": {
    "ExecuteTime": {
     "end_time": "2018-05-23T15:11:37.866739Z",
     "start_time": "2018-05-23T15:11:36.459689Z"
    },
    "collapsed": true
   },
   "outputs": [],
   "source": [
    "from selenium import webdriver\n",
    "from selenium.webdriver.common.by import By\n",
    "# from selenium.webdriver.common.keys import Keys\n",
    "# from selenium.webdriver.support.select import Select\n",
    "# from selenium.webdriver.support.ui import WebDriverWait\n",
    "# from selenium.webdriver.support import expected_conditions as EC\n",
    "# from selenium.webdriver.chrome.options import Options"
   ]
  },
  {
   "cell_type": "code",
   "execution_count": null,
   "metadata": {
    "ExecuteTime": {
     "end_time": "2018-05-24T07:56:53.363835Z",
     "start_time": "2018-05-24T07:56:53.360834Z"
    },
    "collapsed": true
   },
   "outputs": [],
   "source": [
    "# pandas の最大表示列数を設定 (max_rows で表示行数の設定も可能)\n",
    "pd.set_option('display.max_columns', 30)"
   ]
  },
  {
   "cell_type": "markdown",
   "metadata": {},
   "source": [
    "# 試行錯誤"
   ]
  },
  {
   "cell_type": "code",
   "execution_count": null,
   "metadata": {
    "ExecuteTime": {
     "end_time": "2018-05-12T03:59:37.648032Z",
     "start_time": "2018-05-12T03:59:37.632404Z"
    },
    "collapsed": true
   },
   "outputs": [],
   "source": [
    "url = 'http://bbcsfx.acropolis.org.uk/'"
   ]
  },
  {
   "cell_type": "code",
   "execution_count": null,
   "metadata": {
    "ExecuteTime": {
     "end_time": "2018-05-12T03:59:48.302550Z",
     "start_time": "2018-05-12T03:59:43.211810Z"
    },
    "collapsed": true
   },
   "outputs": [],
   "source": [
    "# ヘッドあり Chrome の WebDriver オブジェクトを作成する\n",
    "driver = webdriver.Chrome()"
   ]
  },
  {
   "cell_type": "code",
   "execution_count": null,
   "metadata": {
    "ExecuteTime": {
     "end_time": "2018-05-12T04:08:38.681723Z",
     "start_time": "2018-05-12T04:08:38.546722Z"
    },
    "collapsed": true
   },
   "outputs": [],
   "source": [
    "driver.set_window_size(1200, 1000)"
   ]
  },
  {
   "cell_type": "code",
   "execution_count": null,
   "metadata": {
    "ExecuteTime": {
     "end_time": "2018-05-12T07:06:03.986853Z",
     "start_time": "2018-05-12T07:06:01.837908Z"
    },
    "collapsed": true
   },
   "outputs": [],
   "source": [
    "# ページを開く\n",
    "driver.get(url)"
   ]
  },
  {
   "cell_type": "code",
   "execution_count": null,
   "metadata": {
    "ExecuteTime": {
     "end_time": "2018-05-12T07:13:02.312918Z",
     "start_time": "2018-05-12T07:13:02.281691Z"
    },
    "collapsed": true
   },
   "outputs": [],
   "source": [
    "sort_description = driver.find_element_by_css_selector('#example > thead > tr > th:nth-child(1)')"
   ]
  },
  {
   "cell_type": "code",
   "execution_count": null,
   "metadata": {
    "ExecuteTime": {
     "end_time": "2018-05-12T07:15:02.727132Z",
     "start_time": "2018-05-12T07:15:02.584734Z"
    },
    "collapsed": true
   },
   "outputs": [],
   "source": [
    "sort_description.click()"
   ]
  },
  {
   "cell_type": "code",
   "execution_count": null,
   "metadata": {
    "ExecuteTime": {
     "end_time": "2018-05-12T07:15:58.358866Z",
     "start_time": "2018-05-12T07:15:58.327590Z"
    },
    "collapsed": true
   },
   "outputs": [],
   "source": [
    "sort_category = driver.find_element_by_css_selector('#example > thead > tr > th:nth-child(2)')"
   ]
  },
  {
   "cell_type": "code",
   "execution_count": null,
   "metadata": {
    "ExecuteTime": {
     "end_time": "2018-05-12T07:15:59.885770Z",
     "start_time": "2018-05-12T07:15:59.749591Z"
    },
    "collapsed": true
   },
   "outputs": [],
   "source": [
    "sort_category.click()"
   ]
  },
  {
   "cell_type": "code",
   "execution_count": null,
   "metadata": {
    "ExecuteTime": {
     "end_time": "2018-05-12T05:34:10.571286Z",
     "start_time": "2018-05-12T05:34:10.493570Z"
    },
    "collapsed": true
   },
   "outputs": [],
   "source": [
    "# Description\n",
    "driver.find_element_by_css_selector('#example > tbody > tr:nth-child(1) > td:nth-child(1)').text"
   ]
  },
  {
   "cell_type": "code",
   "execution_count": null,
   "metadata": {
    "ExecuteTime": {
     "end_time": "2018-05-12T05:34:12.243350Z",
     "start_time": "2018-05-12T05:34:12.181250Z"
    },
    "collapsed": true
   },
   "outputs": [],
   "source": [
    "# Category\n",
    "driver.find_element_by_css_selector('#example > tbody > tr:nth-child(1) > td:nth-child(2)').text"
   ]
  },
  {
   "cell_type": "code",
   "execution_count": null,
   "metadata": {
    "ExecuteTime": {
     "end_time": "2018-05-12T06:40:11.049367Z",
     "start_time": "2018-05-12T06:40:10.986861Z"
    },
    "collapsed": true
   },
   "outputs": [],
   "source": [
    "# Duration\n",
    "driver.find_element_by_css_selector('#example > tbody > tr:nth-child(1) > td:nth-child(3)').text"
   ]
  },
  {
   "cell_type": "code",
   "execution_count": null,
   "metadata": {
    "ExecuteTime": {
     "end_time": "2018-05-12T05:34:13.697182Z",
     "start_time": "2018-05-12T05:34:13.649711Z"
    },
    "collapsed": true,
    "scrolled": true
   },
   "outputs": [],
   "source": [
    "# URL\n",
    "driver.find_element_by_css_selector('#example > tbody > tr:nth-child(1) > td:nth-child(5) > a').get_attribute('href')"
   ]
  },
  {
   "cell_type": "code",
   "execution_count": null,
   "metadata": {
    "ExecuteTime": {
     "end_time": "2018-05-12T06:26:51.720462Z",
     "start_time": "2018-05-12T06:26:50.774946Z"
    },
    "collapsed": true
   },
   "outputs": [],
   "source": [
    "# Description\n",
    "for tr in trs:\n",
    "    print(tr.find_element_by_css_selector('td:nth-child(1)').text)"
   ]
  },
  {
   "cell_type": "code",
   "execution_count": null,
   "metadata": {
    "ExecuteTime": {
     "end_time": "2018-05-12T06:05:47.561296Z",
     "start_time": "2018-05-12T06:05:44.886478Z"
    },
    "collapsed": true
   },
   "outputs": [],
   "source": [
    "# Category\n",
    "for tr in trs:\n",
    "    print(tr.find_element_by_css_selector('td:nth-child(2)').text)"
   ]
  },
  {
   "cell_type": "code",
   "execution_count": null,
   "metadata": {
    "ExecuteTime": {
     "end_time": "2018-05-12T06:06:15.595342Z",
     "start_time": "2018-05-12T06:06:13.189282Z"
    },
    "collapsed": true
   },
   "outputs": [],
   "source": [
    "# Duration\n",
    "for tr in trs:\n",
    "    print(tr.find_element_by_css_selector('td:nth-child(3)').text)"
   ]
  },
  {
   "cell_type": "code",
   "execution_count": null,
   "metadata": {
    "ExecuteTime": {
     "end_time": "2018-05-12T06:07:42.236430Z",
     "start_time": "2018-05-12T06:07:40.833401Z"
    },
    "collapsed": true
   },
   "outputs": [],
   "source": [
    "# URL\n",
    "for tr in trs:\n",
    "    print(tr.find_element_by_css_selector('td:nth-child(5) > a').get_attribute('href'))"
   ]
  },
  {
   "cell_type": "code",
   "execution_count": null,
   "metadata": {
    "ExecuteTime": {
     "end_time": "2018-05-12T06:36:44.677229Z",
     "start_time": "2018-05-12T06:36:44.646393Z"
    },
    "collapsed": true
   },
   "outputs": [],
   "source": [
    "tbl = driver.find_element_by_css_selector('#example > tbody')"
   ]
  },
  {
   "cell_type": "code",
   "execution_count": null,
   "metadata": {
    "ExecuteTime": {
     "end_time": "2018-05-12T06:36:47.661884Z",
     "start_time": "2018-05-12T06:36:47.630767Z"
    },
    "collapsed": true
   },
   "outputs": [],
   "source": [
    "trs = tbl.find_elements(By.TAG_NAME, 'tr')"
   ]
  },
  {
   "cell_type": "code",
   "execution_count": null,
   "metadata": {
    "ExecuteTime": {
     "end_time": "2018-05-12T06:36:48.474470Z",
     "start_time": "2018-05-12T06:36:48.459289Z"
    },
    "collapsed": true
   },
   "outputs": [],
   "source": [
    "len(trs)"
   ]
  },
  {
   "cell_type": "code",
   "execution_count": null,
   "metadata": {
    "ExecuteTime": {
     "end_time": "2018-05-12T06:37:02.632404Z",
     "start_time": "2018-05-12T06:37:01.835713Z"
    },
    "collapsed": true
   },
   "outputs": [],
   "source": [
    "urls = []\n",
    "for tr in trs:\n",
    "    urls.append(tr.find_element_by_css_selector('td:nth-child(5) > a').get_attribute('href'))"
   ]
  },
  {
   "cell_type": "code",
   "execution_count": null,
   "metadata": {
    "ExecuteTime": {
     "end_time": "2018-05-12T06:37:03.397936Z",
     "start_time": "2018-05-12T06:37:03.382341Z"
    },
    "collapsed": true
   },
   "outputs": [],
   "source": [
    "urls"
   ]
  },
  {
   "cell_type": "code",
   "execution_count": null,
   "metadata": {
    "ExecuteTime": {
     "end_time": "2018-05-12T06:10:40.283623Z",
     "start_time": "2018-05-12T06:10:40.252796Z"
    },
    "collapsed": true
   },
   "outputs": [],
   "source": [
    "result = driver.page_source"
   ]
  },
  {
   "cell_type": "code",
   "execution_count": null,
   "metadata": {
    "ExecuteTime": {
     "end_time": "2018-05-12T06:17:01.549014Z",
     "start_time": "2018-05-12T06:17:01.454944Z"
    },
    "collapsed": true
   },
   "outputs": [],
   "source": [
    "df = pd.read_html(driver.page_source, header=0)[0]"
   ]
  },
  {
   "cell_type": "code",
   "execution_count": null,
   "metadata": {
    "ExecuteTime": {
     "end_time": "2018-05-12T06:17:12.231156Z",
     "start_time": "2018-05-12T06:17:12.215528Z"
    },
    "collapsed": true
   },
   "outputs": [],
   "source": [
    "df['URL'] = urls"
   ]
  },
  {
   "cell_type": "code",
   "execution_count": null,
   "metadata": {
    "ExecuteTime": {
     "end_time": "2018-05-12T06:43:39.493746Z",
     "start_time": "2018-05-12T06:43:39.478118Z"
    },
    "collapsed": true
   },
   "outputs": [],
   "source": [
    "df = df.iloc[:,[0, 1, 2, 5]]"
   ]
  },
  {
   "cell_type": "code",
   "execution_count": null,
   "metadata": {
    "ExecuteTime": {
     "end_time": "2018-05-12T06:43:40.790764Z",
     "start_time": "2018-05-12T06:43:40.759504Z"
    },
    "collapsed": true
   },
   "outputs": [],
   "source": [
    "df"
   ]
  },
  {
   "cell_type": "code",
   "execution_count": null,
   "metadata": {
    "ExecuteTime": {
     "end_time": "2018-05-12T06:51:26.305888Z",
     "start_time": "2018-05-12T06:51:26.275043Z"
    },
    "collapsed": true
   },
   "outputs": [],
   "source": [
    "next_btn = driver.find_element_by_id('example_next')"
   ]
  },
  {
   "cell_type": "code",
   "execution_count": null,
   "metadata": {
    "ExecuteTime": {
     "end_time": "2018-05-12T06:51:27.455592Z",
     "start_time": "2018-05-12T06:51:27.384363Z"
    },
    "collapsed": true
   },
   "outputs": [],
   "source": [
    "next_btn.click()"
   ]
  },
  {
   "cell_type": "code",
   "execution_count": null,
   "metadata": {
    "ExecuteTime": {
     "end_time": "2018-05-12T07:23:44.912753Z",
     "start_time": "2018-05-12T07:23:44.897138Z"
    },
    "collapsed": true
   },
   "outputs": [],
   "source": [
    "bbc_se = pd.DataFrame()"
   ]
  },
  {
   "cell_type": "code",
   "execution_count": null,
   "metadata": {
    "ExecuteTime": {
     "end_time": "2018-05-12T06:55:03.007294Z",
     "start_time": "2018-05-12T06:55:02.991964Z"
    },
    "collapsed": true
   },
   "outputs": [],
   "source": [
    "bbc_se = bbc_se.append(df)"
   ]
  },
  {
   "cell_type": "code",
   "execution_count": null,
   "metadata": {
    "ExecuteTime": {
     "end_time": "2018-05-12T07:52:53.313543Z",
     "start_time": "2018-05-12T07:52:53.282288Z"
    },
    "collapsed": true
   },
   "outputs": [],
   "source": [
    "bbc_se"
   ]
  },
  {
   "cell_type": "markdown",
   "metadata": {},
   "source": [
    "# リスト作成"
   ]
  },
  {
   "cell_type": "code",
   "execution_count": null,
   "metadata": {
    "ExecuteTime": {
     "end_time": "2018-05-12T03:59:37.648032Z",
     "start_time": "2018-05-12T03:59:37.632404Z"
    },
    "collapsed": true
   },
   "outputs": [],
   "source": [
    "url = 'http://bbcsfx.acropolis.org.uk/'"
   ]
  },
  {
   "cell_type": "code",
   "execution_count": null,
   "metadata": {
    "ExecuteTime": {
     "end_time": "2018-05-12T03:59:48.302550Z",
     "start_time": "2018-05-12T03:59:43.211810Z"
    },
    "collapsed": true
   },
   "outputs": [],
   "source": [
    "# ヘッドあり Chrome の WebDriver オブジェクトを作成する\n",
    "driver = webdriver.Chrome()\n",
    "driver.set_window_size(1200, 1000)\n",
    "\n",
    "# ページを開く\n",
    "driver.get(url)\n",
    "\n",
    "sort_description = driver.find_element_by_css_selector('#example > thead > tr > th:nth-child(1)')\n",
    "sort_description.click()\n",
    "sort_category = driver.find_element_by_css_selector('#example > thead > tr > th:nth-child(2)')\n",
    "sort_category.click()"
   ]
  },
  {
   "cell_type": "code",
   "execution_count": null,
   "metadata": {
    "ExecuteTime": {
     "end_time": "2018-05-12T07:23:44.912753Z",
     "start_time": "2018-05-12T07:23:44.897138Z"
    },
    "collapsed": true
   },
   "outputs": [],
   "source": [
    "bbc_se = pd.DataFrame()\n",
    "\n",
    "for i in range(1, 642):\n",
    "    print('page {0}'.format(i))\n",
    "    \n",
    "    result = driver.page_source\n",
    "    df = pd.read_html(driver.page_source, header=0)[0]\n",
    "\n",
    "    tbl = driver.find_element_by_css_selector('#example > tbody')\n",
    "    trs = tbl.find_elements(By.TAG_NAME, 'tr')\n",
    "    urls = []\n",
    "    for tr in trs:\n",
    "        urls.append(tr.find_element_by_css_selector('td:nth-child(5) > a').get_attribute('href'))\n",
    "\n",
    "    df['URL'] = urls\n",
    "    df = df.iloc[:,[0, 1, 2, 5]]\n",
    "\n",
    "    bbc_se = bbc_se.append(df)\n",
    "\n",
    "    next_btn = driver.find_element_by_id('example_next')\n",
    "    next_btn.click()\n",
    "    time.sleep(1)"
   ]
  },
  {
   "cell_type": "code",
   "execution_count": null,
   "metadata": {
    "collapsed": true
   },
   "outputs": [],
   "source": [
    "# driver を終了\n",
    "driver.quit()"
   ]
  },
  {
   "cell_type": "code",
   "execution_count": null,
   "metadata": {
    "ExecuteTime": {
     "end_time": "2018-05-12T07:54:56.429540Z",
     "start_time": "2018-05-12T07:54:56.413874Z"
    },
    "collapsed": true
   },
   "outputs": [],
   "source": [
    "bbc_se = bbc_se.reset_index(drop=True)"
   ]
  },
  {
   "cell_type": "code",
   "execution_count": null,
   "metadata": {
    "ExecuteTime": {
     "end_time": "2018-05-13T05:56:52.888156Z",
     "start_time": "2018-05-13T05:56:52.857312Z"
    },
    "collapsed": true
   },
   "outputs": [],
   "source": [
    "bbc_se['file_name'] = \"\""
   ]
  },
  {
   "cell_type": "code",
   "execution_count": null,
   "metadata": {
    "ExecuteTime": {
     "end_time": "2018-05-13T06:11:23.363339Z",
     "start_time": "2018-05-13T06:11:23.347706Z"
    },
    "collapsed": true
   },
   "outputs": [],
   "source": [
    "bbc_se.loc[9, 'file_name']"
   ]
  },
  {
   "cell_type": "code",
   "execution_count": null,
   "metadata": {
    "ExecuteTime": {
     "end_time": "2018-05-13T06:00:46.096293Z",
     "start_time": "2018-05-13T06:00:34.074513Z"
    },
    "collapsed": true,
    "scrolled": true
   },
   "outputs": [],
   "source": [
    "for idx in range(len(bbc_se)):\n",
    "    bbc_se.loc[idx, 'file_name'] = '{0}_{1}.wav'.format(re.search(r'[0-9]+', bbc_se['URL'][idx]).group(),\n",
    "                                                        re.sub(\"[\\\\/:*?\\\"<>| `',.~!@#$%^&*;]\", '_', bbc_se['Description'][idx]))"
   ]
  },
  {
   "cell_type": "code",
   "execution_count": null,
   "metadata": {
    "ExecuteTime": {
     "end_time": "2018-05-15T13:10:19.942360Z",
     "start_time": "2018-05-15T13:10:19.895483Z"
    },
    "collapsed": true,
    "scrolled": true
   },
   "outputs": [],
   "source": [
    "bbc_se"
   ]
  },
  {
   "cell_type": "code",
   "execution_count": null,
   "metadata": {
    "ExecuteTime": {
     "end_time": "2018-05-16T15:36:22.319786Z",
     "start_time": "2018-05-16T15:36:22.272912Z"
    },
    "collapsed": true,
    "scrolled": true
   },
   "outputs": [],
   "source": [
    "bbc_se.groupby('Category').count()"
   ]
  },
  {
   "cell_type": "code",
   "execution_count": null,
   "metadata": {
    "ExecuteTime": {
     "end_time": "2018-05-16T21:44:23.442665Z",
     "start_time": "2018-05-16T21:44:23.411828Z"
    },
    "collapsed": true
   },
   "outputs": [],
   "source": [
    "bbc_se['Duration (seconds)'].sum()"
   ]
  },
  {
   "cell_type": "code",
   "execution_count": null,
   "metadata": {
    "ExecuteTime": {
     "end_time": "2018-05-23T15:12:29.573079Z",
     "start_time": "2018-05-23T15:12:29.557477Z"
    },
    "collapsed": true
   },
   "outputs": [],
   "source": [
    "bbc_se.loc[8000:10000, 'Duration (seconds)'].sum()"
   ]
  },
  {
   "cell_type": "code",
   "execution_count": null,
   "metadata": {
    "ExecuteTime": {
     "end_time": "2018-05-23T15:12:43.804506Z",
     "start_time": "2018-05-23T15:12:43.788853Z"
    },
    "collapsed": true
   },
   "outputs": [],
   "source": [
    "bbc_se.loc[10000:12000, 'Duration (seconds)'].sum()"
   ]
  },
  {
   "cell_type": "code",
   "execution_count": null,
   "metadata": {
    "ExecuteTime": {
     "end_time": "2018-05-19T03:50:27.457594Z",
     "start_time": "2018-05-19T03:50:27.239249Z"
    },
    "collapsed": true
   },
   "outputs": [],
   "source": [
    "bbc_se['Duration (seconds)'].plot()"
   ]
  },
  {
   "cell_type": "code",
   "execution_count": null,
   "metadata": {
    "ExecuteTime": {
     "end_time": "2018-05-23T15:13:14.415808Z",
     "start_time": "2018-05-23T15:13:14.259539Z"
    },
    "collapsed": true
   },
   "outputs": [],
   "source": [
    "bbc_se.loc[8000:10000, 'Duration (seconds)'].plot()"
   ]
  },
  {
   "cell_type": "code",
   "execution_count": null,
   "metadata": {
    "ExecuteTime": {
     "end_time": "2018-05-23T15:12:59.937560Z",
     "start_time": "2018-05-23T15:12:59.633367Z"
    },
    "collapsed": true
   },
   "outputs": [],
   "source": [
    "bbc_se.loc[10000:12000, 'Duration (seconds)'].plot()"
   ]
  },
  {
   "cell_type": "code",
   "execution_count": null,
   "metadata": {
    "ExecuteTime": {
     "end_time": "2018-05-13T06:01:25.128161Z",
     "start_time": "2018-05-13T06:01:24.987966Z"
    },
    "collapsed": true
   },
   "outputs": [],
   "source": [
    "bbc_se.to_csv('BBC_SE.csv')"
   ]
  },
  {
   "cell_type": "markdown",
   "metadata": {},
   "source": [
    "# 長すぎるファイル名の調整 (200文字以下に)"
   ]
  },
  {
   "cell_type": "code",
   "execution_count": null,
   "metadata": {
    "ExecuteTime": {
     "end_time": "2018-05-24T07:57:18.407296Z",
     "start_time": "2018-05-24T07:57:16.411922Z"
    }
   },
   "outputs": [],
   "source": [
    "bbc_se['file_name'].map(lambda x: len(x)).plot()"
   ]
  },
  {
   "cell_type": "code",
   "execution_count": null,
   "metadata": {
    "ExecuteTime": {
     "end_time": "2018-05-24T09:45:07.113548Z",
     "start_time": "2018-05-24T09:45:07.099539Z"
    }
   },
   "outputs": [],
   "source": [
    "over200 = bbc_se['file_name'][bbc_se['file_name'].map(lambda x: len(x)) > 200].index"
   ]
  },
  {
   "cell_type": "code",
   "execution_count": null,
   "metadata": {
    "ExecuteTime": {
     "end_time": "2018-05-24T09:49:47.998168Z",
     "start_time": "2018-05-24T09:49:47.990163Z"
    }
   },
   "outputs": [],
   "source": [
    "len(over200)"
   ]
  },
  {
   "cell_type": "code",
   "execution_count": null,
   "metadata": {
    "ExecuteTime": {
     "end_time": "2018-05-24T09:51:50.492654Z",
     "start_time": "2018-05-24T09:51:50.484649Z"
    }
   },
   "outputs": [],
   "source": [
    "for idx in over200:\n",
    "    print('{0}:\\n{1}\\n'.format(idx, bbc_se.loc[idx, 'file_name']))"
   ]
  },
  {
   "cell_type": "code",
   "execution_count": null,
   "metadata": {
    "ExecuteTime": {
     "end_time": "2018-05-24T09:48:54.449316Z",
     "start_time": "2018-05-24T09:48:54.380799Z"
    }
   },
   "outputs": [],
   "source": [
    "bbc_se.loc[over200, 'file_name'].map(lambda x: len(x))\n",
    "# bbc_se['file_name'][bbc_se['file_name'].map(lambda x: len(x)) > 200].map(lambda x: len(x))"
   ]
  },
  {
   "cell_type": "code",
   "execution_count": null,
   "metadata": {
    "ExecuteTime": {
     "end_time": "2018-05-24T09:42:47.871485Z",
     "start_time": "2018-05-24T09:42:47.863491Z"
    }
   },
   "outputs": [],
   "source": [
    "bbc_se.loc[2211, 'file_name']"
   ]
  },
  {
   "cell_type": "code",
   "execution_count": null,
   "metadata": {
    "ExecuteTime": {
     "end_time": "2018-05-24T09:42:49.118267Z",
     "start_time": "2018-05-24T09:42:49.112251Z"
    }
   },
   "outputs": [],
   "source": [
    "len(bbc_se.loc[2211, 'file_name'])"
   ]
  },
  {
   "cell_type": "code",
   "execution_count": null,
   "metadata": {
    "ExecuteTime": {
     "end_time": "2018-05-24T09:42:53.316775Z",
     "start_time": "2018-05-24T09:42:53.309769Z"
    }
   },
   "outputs": [],
   "source": [
    "len('07044122_Cultivated_land_(semi-arid)_in_late_Spring__midday_atmosphere_with_Woodlark__Booted_Eagle__Corn_Bunting__Hoopoe__Azure-Winged_Magpie__Spotless_Starling__grasshoppers___flies.wav')"
   ]
  },
  {
   "cell_type": "code",
   "execution_count": null,
   "metadata": {
    "ExecuteTime": {
     "end_time": "2018-05-23T23:03:38.339079Z",
     "start_time": "2018-05-23T23:03:38.307833Z"
    },
    "collapsed": true
   },
   "outputs": [],
   "source": [
    "len(bbc_se.loc[10507, 'file_name'])"
   ]
  },
  {
   "cell_type": "code",
   "execution_count": null,
   "metadata": {
    "ExecuteTime": {
     "end_time": "2018-05-24T07:57:13.616129Z",
     "start_time": "2018-05-24T07:57:13.520889Z"
    }
   },
   "outputs": [],
   "source": [
    "len(bbc_se.loc[10508, 'file_name'])"
   ]
  },
  {
   "cell_type": "markdown",
   "metadata": {},
   "source": [
    "# ダウンロード"
   ]
  },
  {
   "cell_type": "raw",
   "metadata": {},
   "source": [
    "# ファイル名使用禁止文字\n",
    "# \\/：*?\"<>|\n",
    "# 追加で使用したくない文字\n",
    "#  ',.!@#$%^&*;"
   ]
  },
  {
   "cell_type": "code",
   "execution_count": null,
   "metadata": {
    "ExecuteTime": {
     "end_time": "2018-05-24T07:57:03.133537Z",
     "start_time": "2018-05-24T07:57:03.047468Z"
    },
    "collapsed": true
   },
   "outputs": [],
   "source": [
    "bbc_se = pd.read_csv('BBC_SE.csv', index_col=0)"
   ]
  },
  {
   "cell_type": "code",
   "execution_count": null,
   "metadata": {
    "collapsed": true
   },
   "outputs": [],
   "source": [
    "bbc_se['Description'][8]"
   ]
  },
  {
   "cell_type": "code",
   "execution_count": null,
   "metadata": {
    "ExecuteTime": {
     "end_time": "2018-05-12T14:26:41.363279Z",
     "start_time": "2018-05-12T14:26:41.347640Z"
    },
    "collapsed": true
   },
   "outputs": [],
   "source": [
    "re.sub(\"[\\\\/:*?\\\"<>| `',.~!@#$%^&*;]\", '_', bbc_se['Description'][8])"
   ]
  },
  {
   "cell_type": "code",
   "execution_count": null,
   "metadata": {
    "ExecuteTime": {
     "end_time": "2018-05-12T14:20:31.003665Z",
     "start_time": "2018-05-12T14:20:30.988039Z"
    },
    "collapsed": true
   },
   "outputs": [],
   "source": [
    "bbc_se['URL'][8]"
   ]
  },
  {
   "cell_type": "code",
   "execution_count": null,
   "metadata": {
    "ExecuteTime": {
     "end_time": "2018-05-12T14:22:32.781985Z",
     "start_time": "2018-05-12T14:22:32.751139Z"
    },
    "collapsed": true
   },
   "outputs": [],
   "source": [
    "re.search(r'[0-9]+', bbc_se['URL'][8]).group()"
   ]
  },
  {
   "cell_type": "code",
   "execution_count": null,
   "metadata": {
    "ExecuteTime": {
     "end_time": "2018-05-13T00:31:43.616478Z",
     "start_time": "2018-05-13T00:31:43.600888Z"
    },
    "collapsed": true
   },
   "outputs": [],
   "source": [
    "'D:\\BBC_SE\\{0}_{1}.wav'.format(re.search(r'[0-9]+', bbc_se['URL'][8]).group(),\n",
    "                              re.sub(\"[\\\\/:*?\\\"<>| `',.~!@#$%^&*;]\", '_', bbc_se['Description'][8]))"
   ]
  },
  {
   "cell_type": "code",
   "execution_count": null,
   "metadata": {
    "ExecuteTime": {
     "end_time": "2018-05-13T00:32:58.882291Z",
     "start_time": "2018-05-13T00:32:53.350404Z"
    },
    "collapsed": true
   },
   "outputs": [],
   "source": [
    "wget.download(url=bbc_se['URL'][8], out='D:\\BBC_SE\\{0}_{1}.wav'.format(\n",
    "    re.search(r'[0-9]+', bbc_se['URL'][8]).group(),\n",
    "    re.sub(\"[\\\\/:*?\\\"<>| `',.~!@#$%^&*;]\", '_', bbc_se['Description'][8])))"
   ]
  },
  {
   "cell_type": "code",
   "execution_count": null,
   "metadata": {
    "ExecuteTime": {
     "end_time": "2018-05-23T15:11:54.611682Z",
     "start_time": "2018-05-23T15:11:54.596473Z"
    },
    "collapsed": true
   },
   "outputs": [],
   "source": [
    "failed = []"
   ]
  },
  {
   "cell_type": "code",
   "execution_count": null,
   "metadata": {
    "ExecuteTime": {
     "end_time": "2018-05-23T23:01:25.346565Z",
     "start_time": "2018-05-23T15:13:45.431243Z"
    },
    "collapsed": true
   },
   "outputs": [],
   "source": [
    "for idx in range(11894, 12000):\n",
    "    try:\n",
    "        wget.download(url=bbc_se['URL'][idx], out='D:/BBC_SE/10001-12000/{0}'.format(bbc_se['file_name'][idx]))\n",
    "    except Exception as e:\n",
    "        print('\\n{0}: {1}\\n'.format(idx, e))\n",
    "        failed.append(idx)"
   ]
  },
  {
   "cell_type": "code",
   "execution_count": null,
   "metadata": {
    "ExecuteTime": {
     "end_time": "2018-05-23T23:02:33.891708Z",
     "start_time": "2018-05-23T23:02:33.876069Z"
    },
    "collapsed": true
   },
   "outputs": [],
   "source": [
    "failed"
   ]
  },
  {
   "cell_type": "code",
   "execution_count": null,
   "metadata": {
    "collapsed": true
   },
   "outputs": [],
   "source": [
    "pd.Series(failed).to_csv('download_failed.csv')"
   ]
  },
  {
   "cell_type": "code",
   "execution_count": null,
   "metadata": {
    "ExecuteTime": {
     "end_time": "2018-05-13T13:49:26.784657Z",
     "start_time": "2018-05-13T13:49:26.769232Z"
    },
    "collapsed": true
   },
   "outputs": [],
   "source": [
    "bbc_se['file_name'][741]"
   ]
  },
  {
   "cell_type": "code",
   "execution_count": null,
   "metadata": {
    "ExecuteTime": {
     "end_time": "2018-05-19T23:46:37.181657Z",
     "start_time": "2018-05-19T23:46:21.328263Z"
    },
    "collapsed": true
   },
   "outputs": [],
   "source": [
    "idx = 7378\n",
    "wget.download(url=bbc_se['URL'][idx], out='D:/BBC_SE/06001-08000/{0}'.format(bbc_se['file_name'][idx]))"
   ]
  },
  {
   "cell_type": "code",
   "execution_count": null,
   "metadata": {
    "ExecuteTime": {
     "end_time": "2018-05-13T06:49:50.214995Z",
     "start_time": "2018-05-13T06:49:50.183695Z"
    },
    "collapsed": true
   },
   "outputs": [],
   "source": [
    "list(range(110, 120))"
   ]
  },
  {
   "cell_type": "code",
   "execution_count": null,
   "metadata": {
    "ExecuteTime": {
     "end_time": "2018-05-16T15:39:54.492962Z",
     "start_time": "2018-05-16T15:39:52.883275Z"
    },
    "collapsed": true
   },
   "outputs": [],
   "source": [
    "# import sys, time\n",
    "for num, i in enumerate(range(100)):\n",
    "    sys.stdout.write(\"\\r{0}\".format(num))\n",
    "    sys.stdout.flush()\n",
    "    time.sleep(0.01)"
   ]
  },
  {
   "cell_type": "code",
   "execution_count": null,
   "metadata": {
    "collapsed": true
   },
   "outputs": [],
   "source": []
  }
 ],
 "metadata": {
  "kernelspec": {
   "display_name": "Python 3",
   "language": "python",
   "name": "python3"
  },
  "language_info": {
   "codemirror_mode": {
    "name": "ipython",
    "version": 3
   },
   "file_extension": ".py",
   "mimetype": "text/x-python",
   "name": "python",
   "nbconvert_exporter": "python",
   "pygments_lexer": "ipython3",
   "version": "3.6.1"
  },
  "toc": {
   "nav_menu": {},
   "number_sections": true,
   "sideBar": true,
   "skip_h1_title": false,
   "title_cell": "Table of Contents",
   "title_sidebar": "Contents",
   "toc_cell": false,
   "toc_position": {},
   "toc_section_display": "block",
   "toc_window_display": false
  },
  "varInspector": {
   "cols": {
    "lenName": 16,
    "lenType": 16,
    "lenVar": 40
   },
   "kernels_config": {
    "python": {
     "delete_cmd_postfix": "",
     "delete_cmd_prefix": "del ",
     "library": "var_list.py",
     "varRefreshCmd": "print(var_dic_list())"
    },
    "r": {
     "delete_cmd_postfix": ") ",
     "delete_cmd_prefix": "rm(",
     "library": "var_list.r",
     "varRefreshCmd": "cat(var_dic_list()) "
    }
   },
   "types_to_exclude": [
    "module",
    "function",
    "builtin_function_or_method",
    "instance",
    "_Feature"
   ],
   "window_display": false
  }
 },
 "nbformat": 4,
 "nbformat_minor": 2
}
