{
 "cells": [
  {
   "cell_type": "markdown",
   "metadata": {},
   "source": [
    "# 準備"
   ]
  },
  {
   "cell_type": "code",
   "execution_count": null,
   "metadata": {
    "ExecuteTime": {
     "end_time": "2019-11-23T08:48:46.683765Z",
     "start_time": "2019-11-23T08:48:44.861622Z"
    }
   },
   "outputs": [],
   "source": [
    "import pandas as pd\n",
    "import numpy as np\n",
    "import sys\n",
    "import time\n",
    "import re\n",
    "import matplotlib.pyplot as plt\n",
    "%matplotlib inline"
   ]
  },
  {
   "cell_type": "code",
   "execution_count": null,
   "metadata": {
    "ExecuteTime": {
     "end_time": "2019-11-23T09:24:06.801530Z",
     "start_time": "2019-11-23T09:24:06.798561Z"
    }
   },
   "outputs": [],
   "source": [
    "# 形態素解析\n",
    "import treetaggerwrapper as ttw\n",
    "from collections import Counter"
   ]
  },
  {
   "cell_type": "code",
   "execution_count": null,
   "metadata": {
    "ExecuteTime": {
     "end_time": "2018-05-24T14:49:37.294226Z",
     "start_time": "2018-05-24T14:49:37.262989Z"
    }
   },
   "outputs": [],
   "source": [
    "import wget"
   ]
  },
  {
   "cell_type": "code",
   "execution_count": null,
   "metadata": {
    "ExecuteTime": {
     "end_time": "2018-05-23T15:11:37.866739Z",
     "start_time": "2018-05-23T15:11:36.459689Z"
    },
    "collapsed": true
   },
   "outputs": [],
   "source": [
    "from selenium import webdriver\n",
    "from selenium.webdriver.common.by import By\n",
    "# from selenium.webdriver.common.keys import Keys\n",
    "# from selenium.webdriver.support.select import Select\n",
    "# from selenium.webdriver.support.ui import WebDriverWait\n",
    "# from selenium.webdriver.support import expected_conditions as EC\n",
    "# from selenium.webdriver.chrome.options import Options"
   ]
  },
  {
   "cell_type": "code",
   "execution_count": null,
   "metadata": {
    "ExecuteTime": {
     "end_time": "2019-11-23T08:48:50.126770Z",
     "start_time": "2019-11-23T08:48:50.123790Z"
    }
   },
   "outputs": [],
   "source": [
    "# pandas の最大表示列数を設定 (max_rows で表示行数の設定も可能)\n",
    "pd.set_option('display.max_columns', 30)"
   ]
  },
  {
   "cell_type": "code",
   "execution_count": null,
   "metadata": {
    "ExecuteTime": {
     "end_time": "2019-11-23T08:48:53.687596Z",
     "start_time": "2019-11-23T08:48:53.599830Z"
    }
   },
   "outputs": [],
   "source": [
    "bbc_se = pd.read_csv('BBC_SE.csv', index_col=0)"
   ]
  },
  {
   "cell_type": "markdown",
   "metadata": {},
   "source": [
    "# 試行錯誤"
   ]
  },
  {
   "cell_type": "code",
   "execution_count": null,
   "metadata": {
    "ExecuteTime": {
     "end_time": "2018-05-12T03:59:37.648032Z",
     "start_time": "2018-05-12T03:59:37.632404Z"
    },
    "collapsed": true
   },
   "outputs": [],
   "source": [
    "url = 'http://bbcsfx.acropolis.org.uk/'"
   ]
  },
  {
   "cell_type": "code",
   "execution_count": null,
   "metadata": {
    "ExecuteTime": {
     "end_time": "2018-05-12T03:59:48.302550Z",
     "start_time": "2018-05-12T03:59:43.211810Z"
    },
    "collapsed": true
   },
   "outputs": [],
   "source": [
    "# ヘッドあり Chrome の WebDriver オブジェクトを作成する\n",
    "driver = webdriver.Chrome()"
   ]
  },
  {
   "cell_type": "code",
   "execution_count": null,
   "metadata": {
    "ExecuteTime": {
     "end_time": "2018-05-12T04:08:38.681723Z",
     "start_time": "2018-05-12T04:08:38.546722Z"
    },
    "collapsed": true
   },
   "outputs": [],
   "source": [
    "driver.set_window_size(1200, 1000)"
   ]
  },
  {
   "cell_type": "code",
   "execution_count": null,
   "metadata": {
    "ExecuteTime": {
     "end_time": "2018-05-12T07:06:03.986853Z",
     "start_time": "2018-05-12T07:06:01.837908Z"
    },
    "collapsed": true
   },
   "outputs": [],
   "source": [
    "# ページを開く\n",
    "driver.get(url)"
   ]
  },
  {
   "cell_type": "code",
   "execution_count": null,
   "metadata": {
    "ExecuteTime": {
     "end_time": "2018-05-12T07:13:02.312918Z",
     "start_time": "2018-05-12T07:13:02.281691Z"
    },
    "collapsed": true
   },
   "outputs": [],
   "source": [
    "sort_description = driver.find_element_by_css_selector('#example > thead > tr > th:nth-child(1)')"
   ]
  },
  {
   "cell_type": "code",
   "execution_count": null,
   "metadata": {
    "ExecuteTime": {
     "end_time": "2018-05-12T07:15:02.727132Z",
     "start_time": "2018-05-12T07:15:02.584734Z"
    },
    "collapsed": true
   },
   "outputs": [],
   "source": [
    "sort_description.click()"
   ]
  },
  {
   "cell_type": "code",
   "execution_count": null,
   "metadata": {
    "ExecuteTime": {
     "end_time": "2018-05-12T07:15:58.358866Z",
     "start_time": "2018-05-12T07:15:58.327590Z"
    },
    "collapsed": true
   },
   "outputs": [],
   "source": [
    "sort_category = driver.find_element_by_css_selector('#example > thead > tr > th:nth-child(2)')"
   ]
  },
  {
   "cell_type": "code",
   "execution_count": null,
   "metadata": {
    "ExecuteTime": {
     "end_time": "2018-05-12T07:15:59.885770Z",
     "start_time": "2018-05-12T07:15:59.749591Z"
    },
    "collapsed": true
   },
   "outputs": [],
   "source": [
    "sort_category.click()"
   ]
  },
  {
   "cell_type": "code",
   "execution_count": null,
   "metadata": {
    "ExecuteTime": {
     "end_time": "2018-05-12T05:34:10.571286Z",
     "start_time": "2018-05-12T05:34:10.493570Z"
    },
    "collapsed": true
   },
   "outputs": [],
   "source": [
    "# Description\n",
    "driver.find_element_by_css_selector('#example > tbody > tr:nth-child(1) > td:nth-child(1)').text"
   ]
  },
  {
   "cell_type": "code",
   "execution_count": null,
   "metadata": {
    "ExecuteTime": {
     "end_time": "2018-05-12T05:34:12.243350Z",
     "start_time": "2018-05-12T05:34:12.181250Z"
    },
    "collapsed": true
   },
   "outputs": [],
   "source": [
    "# Category\n",
    "driver.find_element_by_css_selector('#example > tbody > tr:nth-child(1) > td:nth-child(2)').text"
   ]
  },
  {
   "cell_type": "code",
   "execution_count": null,
   "metadata": {
    "ExecuteTime": {
     "end_time": "2018-05-12T06:40:11.049367Z",
     "start_time": "2018-05-12T06:40:10.986861Z"
    },
    "collapsed": true
   },
   "outputs": [],
   "source": [
    "# Duration\n",
    "driver.find_element_by_css_selector('#example > tbody > tr:nth-child(1) > td:nth-child(3)').text"
   ]
  },
  {
   "cell_type": "code",
   "execution_count": null,
   "metadata": {
    "ExecuteTime": {
     "end_time": "2018-05-12T05:34:13.697182Z",
     "start_time": "2018-05-12T05:34:13.649711Z"
    },
    "collapsed": true,
    "scrolled": true
   },
   "outputs": [],
   "source": [
    "# URL\n",
    "driver.find_element_by_css_selector('#example > tbody > tr:nth-child(1) > td:nth-child(5) > a').get_attribute('href')"
   ]
  },
  {
   "cell_type": "code",
   "execution_count": null,
   "metadata": {
    "ExecuteTime": {
     "end_time": "2018-05-12T06:26:51.720462Z",
     "start_time": "2018-05-12T06:26:50.774946Z"
    },
    "collapsed": true
   },
   "outputs": [],
   "source": [
    "# Description\n",
    "for tr in trs:\n",
    "    print(tr.find_element_by_css_selector('td:nth-child(1)').text)"
   ]
  },
  {
   "cell_type": "code",
   "execution_count": null,
   "metadata": {
    "ExecuteTime": {
     "end_time": "2018-05-12T06:05:47.561296Z",
     "start_time": "2018-05-12T06:05:44.886478Z"
    },
    "collapsed": true
   },
   "outputs": [],
   "source": [
    "# Category\n",
    "for tr in trs:\n",
    "    print(tr.find_element_by_css_selector('td:nth-child(2)').text)"
   ]
  },
  {
   "cell_type": "code",
   "execution_count": null,
   "metadata": {
    "ExecuteTime": {
     "end_time": "2018-05-12T06:06:15.595342Z",
     "start_time": "2018-05-12T06:06:13.189282Z"
    },
    "collapsed": true
   },
   "outputs": [],
   "source": [
    "# Duration\n",
    "for tr in trs:\n",
    "    print(tr.find_element_by_css_selector('td:nth-child(3)').text)"
   ]
  },
  {
   "cell_type": "code",
   "execution_count": null,
   "metadata": {
    "ExecuteTime": {
     "end_time": "2018-05-12T06:07:42.236430Z",
     "start_time": "2018-05-12T06:07:40.833401Z"
    },
    "collapsed": true
   },
   "outputs": [],
   "source": [
    "# URL\n",
    "for tr in trs:\n",
    "    print(tr.find_element_by_css_selector('td:nth-child(5) > a').get_attribute('href'))"
   ]
  },
  {
   "cell_type": "code",
   "execution_count": null,
   "metadata": {
    "ExecuteTime": {
     "end_time": "2018-05-12T06:36:44.677229Z",
     "start_time": "2018-05-12T06:36:44.646393Z"
    },
    "collapsed": true
   },
   "outputs": [],
   "source": [
    "tbl = driver.find_element_by_css_selector('#example > tbody')"
   ]
  },
  {
   "cell_type": "code",
   "execution_count": null,
   "metadata": {
    "ExecuteTime": {
     "end_time": "2018-05-12T06:36:47.661884Z",
     "start_time": "2018-05-12T06:36:47.630767Z"
    },
    "collapsed": true
   },
   "outputs": [],
   "source": [
    "trs = tbl.find_elements(By.TAG_NAME, 'tr')"
   ]
  },
  {
   "cell_type": "code",
   "execution_count": null,
   "metadata": {
    "ExecuteTime": {
     "end_time": "2018-05-12T06:36:48.474470Z",
     "start_time": "2018-05-12T06:36:48.459289Z"
    },
    "collapsed": true
   },
   "outputs": [],
   "source": [
    "len(trs)"
   ]
  },
  {
   "cell_type": "code",
   "execution_count": null,
   "metadata": {
    "ExecuteTime": {
     "end_time": "2018-05-12T06:37:02.632404Z",
     "start_time": "2018-05-12T06:37:01.835713Z"
    },
    "collapsed": true
   },
   "outputs": [],
   "source": [
    "urls = []\n",
    "for tr in trs:\n",
    "    urls.append(tr.find_element_by_css_selector('td:nth-child(5) > a').get_attribute('href'))"
   ]
  },
  {
   "cell_type": "code",
   "execution_count": null,
   "metadata": {
    "ExecuteTime": {
     "end_time": "2018-05-12T06:37:03.397936Z",
     "start_time": "2018-05-12T06:37:03.382341Z"
    },
    "collapsed": true
   },
   "outputs": [],
   "source": [
    "urls"
   ]
  },
  {
   "cell_type": "code",
   "execution_count": null,
   "metadata": {
    "ExecuteTime": {
     "end_time": "2018-05-12T06:10:40.283623Z",
     "start_time": "2018-05-12T06:10:40.252796Z"
    },
    "collapsed": true
   },
   "outputs": [],
   "source": [
    "result = driver.page_source"
   ]
  },
  {
   "cell_type": "code",
   "execution_count": null,
   "metadata": {
    "ExecuteTime": {
     "end_time": "2018-05-12T06:17:01.549014Z",
     "start_time": "2018-05-12T06:17:01.454944Z"
    },
    "collapsed": true
   },
   "outputs": [],
   "source": [
    "df = pd.read_html(driver.page_source, header=0)[0]"
   ]
  },
  {
   "cell_type": "code",
   "execution_count": null,
   "metadata": {
    "ExecuteTime": {
     "end_time": "2018-05-12T06:17:12.231156Z",
     "start_time": "2018-05-12T06:17:12.215528Z"
    },
    "collapsed": true
   },
   "outputs": [],
   "source": [
    "df['URL'] = urls"
   ]
  },
  {
   "cell_type": "code",
   "execution_count": null,
   "metadata": {
    "ExecuteTime": {
     "end_time": "2018-05-12T06:43:39.493746Z",
     "start_time": "2018-05-12T06:43:39.478118Z"
    },
    "collapsed": true
   },
   "outputs": [],
   "source": [
    "df = df.iloc[:,[0, 1, 2, 5]]"
   ]
  },
  {
   "cell_type": "code",
   "execution_count": null,
   "metadata": {
    "ExecuteTime": {
     "end_time": "2018-05-12T06:43:40.790764Z",
     "start_time": "2018-05-12T06:43:40.759504Z"
    },
    "collapsed": true
   },
   "outputs": [],
   "source": [
    "df"
   ]
  },
  {
   "cell_type": "code",
   "execution_count": null,
   "metadata": {
    "ExecuteTime": {
     "end_time": "2018-05-12T06:51:26.305888Z",
     "start_time": "2018-05-12T06:51:26.275043Z"
    },
    "collapsed": true
   },
   "outputs": [],
   "source": [
    "next_btn = driver.find_element_by_id('example_next')"
   ]
  },
  {
   "cell_type": "code",
   "execution_count": null,
   "metadata": {
    "ExecuteTime": {
     "end_time": "2018-05-12T06:51:27.455592Z",
     "start_time": "2018-05-12T06:51:27.384363Z"
    },
    "collapsed": true
   },
   "outputs": [],
   "source": [
    "next_btn.click()"
   ]
  },
  {
   "cell_type": "code",
   "execution_count": null,
   "metadata": {
    "ExecuteTime": {
     "end_time": "2018-05-12T07:23:44.912753Z",
     "start_time": "2018-05-12T07:23:44.897138Z"
    },
    "collapsed": true
   },
   "outputs": [],
   "source": [
    "bbc_se = pd.DataFrame()"
   ]
  },
  {
   "cell_type": "code",
   "execution_count": null,
   "metadata": {
    "ExecuteTime": {
     "end_time": "2018-05-12T06:55:03.007294Z",
     "start_time": "2018-05-12T06:55:02.991964Z"
    },
    "collapsed": true
   },
   "outputs": [],
   "source": [
    "bbc_se = bbc_se.append(df)"
   ]
  },
  {
   "cell_type": "code",
   "execution_count": null,
   "metadata": {
    "ExecuteTime": {
     "end_time": "2018-05-12T07:52:53.313543Z",
     "start_time": "2018-05-12T07:52:53.282288Z"
    },
    "collapsed": true
   },
   "outputs": [],
   "source": [
    "bbc_se"
   ]
  },
  {
   "cell_type": "markdown",
   "metadata": {},
   "source": [
    "# リスト作成"
   ]
  },
  {
   "cell_type": "code",
   "execution_count": null,
   "metadata": {
    "ExecuteTime": {
     "end_time": "2018-05-12T03:59:37.648032Z",
     "start_time": "2018-05-12T03:59:37.632404Z"
    },
    "collapsed": true
   },
   "outputs": [],
   "source": [
    "url = 'http://bbcsfx.acropolis.org.uk/'"
   ]
  },
  {
   "cell_type": "code",
   "execution_count": null,
   "metadata": {
    "ExecuteTime": {
     "end_time": "2018-05-12T03:59:48.302550Z",
     "start_time": "2018-05-12T03:59:43.211810Z"
    },
    "collapsed": true
   },
   "outputs": [],
   "source": [
    "# ヘッドあり Chrome の WebDriver オブジェクトを作成する\n",
    "driver = webdriver.Chrome()\n",
    "driver.set_window_size(1200, 1000)\n",
    "\n",
    "# ページを開く\n",
    "driver.get(url)\n",
    "\n",
    "sort_description = driver.find_element_by_css_selector('#example > thead > tr > th:nth-child(1)')\n",
    "sort_description.click()\n",
    "sort_category = driver.find_element_by_css_selector('#example > thead > tr > th:nth-child(2)')\n",
    "sort_category.click()"
   ]
  },
  {
   "cell_type": "code",
   "execution_count": null,
   "metadata": {
    "ExecuteTime": {
     "end_time": "2018-05-12T07:23:44.912753Z",
     "start_time": "2018-05-12T07:23:44.897138Z"
    },
    "collapsed": true
   },
   "outputs": [],
   "source": [
    "bbc_se = pd.DataFrame()\n",
    "\n",
    "for i in range(1, 642):\n",
    "    print('page {0}'.format(i))\n",
    "    \n",
    "    result = driver.page_source\n",
    "    df = pd.read_html(driver.page_source, header=0)[0]\n",
    "\n",
    "    tbl = driver.find_element_by_css_selector('#example > tbody')\n",
    "    trs = tbl.find_elements(By.TAG_NAME, 'tr')\n",
    "    urls = []\n",
    "    for tr in trs:\n",
    "        urls.append(tr.find_element_by_css_selector('td:nth-child(5) > a').get_attribute('href'))\n",
    "\n",
    "    df['URL'] = urls\n",
    "    df = df.iloc[:,[0, 1, 2, 5]]\n",
    "\n",
    "    bbc_se = bbc_se.append(df)\n",
    "\n",
    "    next_btn = driver.find_element_by_id('example_next')\n",
    "    next_btn.click()\n",
    "    time.sleep(1)"
   ]
  },
  {
   "cell_type": "code",
   "execution_count": null,
   "metadata": {
    "collapsed": true
   },
   "outputs": [],
   "source": [
    "# driver を終了\n",
    "driver.quit()"
   ]
  },
  {
   "cell_type": "code",
   "execution_count": null,
   "metadata": {
    "ExecuteTime": {
     "end_time": "2018-05-12T07:54:56.429540Z",
     "start_time": "2018-05-12T07:54:56.413874Z"
    },
    "collapsed": true
   },
   "outputs": [],
   "source": [
    "bbc_se = bbc_se.reset_index(drop=True)"
   ]
  },
  {
   "cell_type": "code",
   "execution_count": null,
   "metadata": {
    "ExecuteTime": {
     "end_time": "2018-05-13T05:56:52.888156Z",
     "start_time": "2018-05-13T05:56:52.857312Z"
    },
    "collapsed": true
   },
   "outputs": [],
   "source": [
    "bbc_se['file_name'] = \"\""
   ]
  },
  {
   "cell_type": "code",
   "execution_count": null,
   "metadata": {
    "ExecuteTime": {
     "end_time": "2018-05-13T06:11:23.363339Z",
     "start_time": "2018-05-13T06:11:23.347706Z"
    },
    "collapsed": true
   },
   "outputs": [],
   "source": [
    "bbc_se.loc[9, 'file_name']"
   ]
  },
  {
   "cell_type": "code",
   "execution_count": null,
   "metadata": {
    "ExecuteTime": {
     "end_time": "2019-11-23T09:12:26.481978Z",
     "start_time": "2019-11-23T09:12:16.512612Z"
    },
    "collapsed": true
   },
   "outputs": [],
   "source": [
    "for idx in range(len(bbc_se)):\n",
    "    bbc_se.loc[idx, 'file_name'] = '{0}_{1}.wav'.format(re.search(r'[0-9]+', bbc_se['URL'][idx]).group(),\n",
    "                                                        re.sub(\"[\\\\/:*?\\\"<>| `',.~!@#$%^&*;]\", '_', bbc_se['Description'][idx]))"
   ]
  },
  {
   "cell_type": "code",
   "execution_count": null,
   "metadata": {
    "ExecuteTime": {
     "end_time": "2018-05-15T13:10:19.942360Z",
     "start_time": "2018-05-15T13:10:19.895483Z"
    },
    "collapsed": true,
    "scrolled": true
   },
   "outputs": [],
   "source": [
    "bbc_se"
   ]
  },
  {
   "cell_type": "code",
   "execution_count": null,
   "metadata": {
    "ExecuteTime": {
     "end_time": "2018-05-16T15:36:22.319786Z",
     "start_time": "2018-05-16T15:36:22.272912Z"
    },
    "collapsed": true,
    "scrolled": true
   },
   "outputs": [],
   "source": [
    "bbc_se.groupby('Category').count()"
   ]
  },
  {
   "cell_type": "code",
   "execution_count": null,
   "metadata": {
    "ExecuteTime": {
     "end_time": "2018-05-16T21:44:23.442665Z",
     "start_time": "2018-05-16T21:44:23.411828Z"
    },
    "collapsed": true
   },
   "outputs": [],
   "source": [
    "bbc_se['Duration (seconds)'].sum()"
   ]
  },
  {
   "cell_type": "code",
   "execution_count": null,
   "metadata": {
    "ExecuteTime": {
     "end_time": "2018-05-23T15:12:29.573079Z",
     "start_time": "2018-05-23T15:12:29.557477Z"
    },
    "collapsed": true
   },
   "outputs": [],
   "source": [
    "bbc_se.loc[8000:10000, 'Duration (seconds)'].sum()"
   ]
  },
  {
   "cell_type": "code",
   "execution_count": null,
   "metadata": {
    "ExecuteTime": {
     "end_time": "2018-05-23T15:12:43.804506Z",
     "start_time": "2018-05-23T15:12:43.788853Z"
    },
    "collapsed": true
   },
   "outputs": [],
   "source": [
    "bbc_se.loc[10000:12000, 'Duration (seconds)'].sum()"
   ]
  },
  {
   "cell_type": "code",
   "execution_count": null,
   "metadata": {
    "ExecuteTime": {
     "end_time": "2018-05-19T03:50:27.457594Z",
     "start_time": "2018-05-19T03:50:27.239249Z"
    },
    "collapsed": true
   },
   "outputs": [],
   "source": [
    "bbc_se['Duration (seconds)'].plot()"
   ]
  },
  {
   "cell_type": "code",
   "execution_count": null,
   "metadata": {
    "ExecuteTime": {
     "end_time": "2018-05-23T15:13:14.415808Z",
     "start_time": "2018-05-23T15:13:14.259539Z"
    },
    "collapsed": true
   },
   "outputs": [],
   "source": [
    "bbc_se.loc[8000:10000, 'Duration (seconds)'].plot()"
   ]
  },
  {
   "cell_type": "code",
   "execution_count": null,
   "metadata": {
    "ExecuteTime": {
     "end_time": "2018-05-23T15:12:59.937560Z",
     "start_time": "2018-05-23T15:12:59.633367Z"
    },
    "collapsed": true
   },
   "outputs": [],
   "source": [
    "bbc_se.loc[10000:12000, 'Duration (seconds)'].plot()"
   ]
  },
  {
   "cell_type": "code",
   "execution_count": null,
   "metadata": {
    "ExecuteTime": {
     "end_time": "2018-05-24T15:44:50.088646Z",
     "start_time": "2018-05-24T15:44:49.948031Z"
    }
   },
   "outputs": [],
   "source": [
    "bbc_se.to_csv('BBC_SE.csv')"
   ]
  },
  {
   "cell_type": "markdown",
   "metadata": {},
   "source": [
    "# 長すぎるファイル名の調整 (200文字以下に)"
   ]
  },
  {
   "cell_type": "code",
   "execution_count": null,
   "metadata": {
    "ExecuteTime": {
     "end_time": "2018-05-24T15:51:40.264809Z",
     "start_time": "2018-05-24T15:51:39.999182Z"
    }
   },
   "outputs": [],
   "source": [
    "bbc_se['file_name'].map(lambda x: len(x)).plot()"
   ]
  },
  {
   "cell_type": "code",
   "execution_count": null,
   "metadata": {
    "ExecuteTime": {
     "end_time": "2018-05-24T15:51:41.374301Z",
     "start_time": "2018-05-24T15:51:41.343047Z"
    }
   },
   "outputs": [],
   "source": [
    "over200 = bbc_se['file_name'][bbc_se['file_name'].map(lambda x: len(x)) > 200].index"
   ]
  },
  {
   "cell_type": "code",
   "execution_count": null,
   "metadata": {
    "ExecuteTime": {
     "end_time": "2018-05-24T15:51:42.046247Z",
     "start_time": "2018-05-24T15:51:42.030629Z"
    }
   },
   "outputs": [],
   "source": [
    "len(over200)"
   ]
  },
  {
   "cell_type": "code",
   "execution_count": null,
   "metadata": {
    "ExecuteTime": {
     "end_time": "2018-05-24T15:43:46.773550Z",
     "start_time": "2018-05-24T15:43:46.757923Z"
    }
   },
   "outputs": [],
   "source": [
    "for idx in over200:\n",
    "    print('{0}:\\n{1}\\n'.format(idx, bbc_se.loc[idx, 'file_name']))"
   ]
  },
  {
   "cell_type": "code",
   "execution_count": null,
   "metadata": {
    "ExecuteTime": {
     "end_time": "2018-05-24T15:43:31.075647Z",
     "start_time": "2018-05-24T15:43:31.067639Z"
    }
   },
   "outputs": [],
   "source": [
    "bbc_se.loc[over200, 'file_name'].map(lambda x: len(x))\n",
    "# bbc_se['file_name'][bbc_se['file_name'].map(lambda x: len(x)) > 200].map(lambda x: len(x))"
   ]
  },
  {
   "cell_type": "code",
   "execution_count": null,
   "metadata": {
    "ExecuteTime": {
     "end_time": "2018-05-24T15:38:32.758151Z",
     "start_time": "2018-05-24T15:38:32.742935Z"
    },
    "scrolled": true
   },
   "outputs": [],
   "source": [
    "bbc_se.loc[2211, 'file_name']"
   ]
  },
  {
   "cell_type": "code",
   "execution_count": null,
   "metadata": {
    "ExecuteTime": {
     "end_time": "2018-05-24T15:38:31.085176Z",
     "start_time": "2018-05-24T15:38:31.069531Z"
    }
   },
   "outputs": [],
   "source": [
    "bbc_se.loc[2211, 'file_name'] = '07044122_Cultivated_land_(semi-arid)_in_late_Spring__midday_atmosphere_with_Woodlark__Booted_Eagle__Corn_Bunting__Hoopoe__Azure-Winged_Magpie__Spotless_Starling__grasshoppers___flies.wav'"
   ]
  },
  {
   "cell_type": "code",
   "execution_count": null,
   "metadata": {
    "ExecuteTime": {
     "end_time": "2018-05-24T15:42:58.598045Z",
     "start_time": "2018-05-24T15:42:58.582418Z"
    }
   },
   "outputs": [],
   "source": [
    "bbc_se.loc[7633, 'file_name']"
   ]
  },
  {
   "cell_type": "code",
   "execution_count": null,
   "metadata": {
    "ExecuteTime": {
     "end_time": "2018-05-24T15:42:54.762473Z",
     "start_time": "2018-05-24T15:42:54.746872Z"
    }
   },
   "outputs": [],
   "source": [
    "bbc_se.loc[7633, 'file_name'] = '07046158_Ship_launch_-_bottle_breaks__men_hammer_away_at_props__cheers_as_boat_begins_to_move__hits_water_at_1_43__three_cheers_given__general_atmosphere_-_1985_(2S23_reprocessed).wav'"
   ]
  },
  {
   "cell_type": "code",
   "execution_count": null,
   "metadata": {
    "ExecuteTime": {
     "end_time": "2018-05-24T15:42:58.598045Z",
     "start_time": "2018-05-24T15:42:58.582418Z"
    },
    "scrolled": true
   },
   "outputs": [],
   "source": [
    "bbc_se.loc[8109, 'file_name']"
   ]
  },
  {
   "cell_type": "code",
   "execution_count": null,
   "metadata": {
    "ExecuteTime": {
     "end_time": "2018-05-24T15:42:54.762473Z",
     "start_time": "2018-05-24T15:42:54.746872Z"
    }
   },
   "outputs": [],
   "source": [
    "bbc_se.loc[8109, 'file_name'] = '07045087_Steam_Train_starts_into_constant_run__various_acoustic_changes_as_train_passes_through_cuttings__etc___alows___stops_in_station.wav'"
   ]
  },
  {
   "cell_type": "code",
   "execution_count": null,
   "metadata": {
    "ExecuteTime": {
     "end_time": "2018-05-24T15:29:02.056738Z",
     "start_time": "2018-05-24T15:29:02.025899Z"
    }
   },
   "outputs": [],
   "source": [
    "bbc_se.loc[10118, 'file_name']"
   ]
  },
  {
   "cell_type": "code",
   "execution_count": null,
   "metadata": {
    "ExecuteTime": {
     "end_time": "2018-05-24T15:29:02.056738Z",
     "start_time": "2018-05-24T15:29:02.025899Z"
    }
   },
   "outputs": [],
   "source": [
    "bbc_se.loc[10118, 'file_name'] = '07062038_Sheep__30_to_50_ewes___lambs_calling_in_field__scattered_then_approach__food_bucket_shaken__food_into_troughs__one_lamb_bleats_on_own__loud_bleats.wav'"
   ]
  },
  {
   "cell_type": "code",
   "execution_count": null,
   "metadata": {
    "ExecuteTime": {
     "end_time": "2018-05-24T15:42:58.598045Z",
     "start_time": "2018-05-24T15:42:58.582418Z"
    }
   },
   "outputs": [],
   "source": [
    "bbc_se.loc[10292, 'file_name']"
   ]
  },
  {
   "cell_type": "code",
   "execution_count": null,
   "metadata": {
    "ExecuteTime": {
     "end_time": "2018-05-24T15:42:54.762473Z",
     "start_time": "2018-05-24T15:42:54.746872Z"
    }
   },
   "outputs": [],
   "source": [
    "bbc_se.loc[10292, 'file_name'] = '07048127_Church_bells_and_village_band_outside_church_(Poland)_during_harvest_festival_celebrations__bells__chat__brass_band_(very_bad)_makes_circuit_of_church_playing_hymn_and_returns.wav'"
   ]
  },
  {
   "cell_type": "code",
   "execution_count": null,
   "metadata": {
    "ExecuteTime": {
     "end_time": "2018-05-24T15:42:58.598045Z",
     "start_time": "2018-05-24T15:42:58.582418Z"
    }
   },
   "outputs": [],
   "source": [
    "bbc_se.loc[10341, 'file_name']"
   ]
  },
  {
   "cell_type": "code",
   "execution_count": null,
   "metadata": {
    "ExecuteTime": {
     "end_time": "2018-05-24T15:42:54.762473Z",
     "start_time": "2018-05-24T15:42:54.746872Z"
    }
   },
   "outputs": [],
   "source": [
    "bbc_se.loc[10341, 'file_name'] = '07074009_Building_site_-_Manly__Australia__Large_site_as_heard_from_above_with_natural_reverberation__hammering__electric_saws__drilling__metal_sheeting_and_wood_dropped.wav'"
   ]
  },
  {
   "cell_type": "code",
   "execution_count": null,
   "metadata": {
    "ExecuteTime": {
     "end_time": "2018-05-24T15:42:58.598045Z",
     "start_time": "2018-05-24T15:42:58.582418Z"
    }
   },
   "outputs": [],
   "source": [
    "bbc_se.loc[10343, 'file_name']"
   ]
  },
  {
   "cell_type": "code",
   "execution_count": null,
   "metadata": {
    "ExecuteTime": {
     "end_time": "2018-05-24T15:42:54.762473Z",
     "start_time": "2018-05-24T15:42:54.746872Z"
    }
   },
   "outputs": [],
   "source": [
    "bbc_se.loc[10343, 'file_name'] = '07074014_Ferry_arrives_at_Circular_Quay_Sydney__Australia_-_distant_horns__water_churning_as_large_ferry_arrives__indistinct_speech_and_calls_from_passengers.wav'"
   ]
  },
  {
   "cell_type": "code",
   "execution_count": null,
   "metadata": {
    "ExecuteTime": {
     "end_time": "2018-05-24T14:55:22.593069Z",
     "start_time": "2018-05-24T14:55:22.577870Z"
    }
   },
   "outputs": [],
   "source": [
    "bbc_se.loc[10507, 'file_name']"
   ]
  },
  {
   "cell_type": "code",
   "execution_count": null,
   "metadata": {
    "ExecuteTime": {
     "end_time": "2018-05-24T14:55:19.812311Z",
     "start_time": "2018-05-24T14:55:19.796685Z"
    }
   },
   "outputs": [],
   "source": [
    "bbc_se.loc[10507, 'file_name'] = '07058185_St__Sepulchre_s_Church__High_Holborn__exterior__tenor_bell_rung__ends__background_traffic_-_1985_(2B9).wav'"
   ]
  },
  {
   "cell_type": "code",
   "execution_count": null,
   "metadata": {
    "ExecuteTime": {
     "end_time": "2018-05-24T14:56:33.272050Z",
     "start_time": "2018-05-24T14:56:33.256423Z"
    }
   },
   "outputs": [],
   "source": [
    "bbc_se.loc[10508, 'file_name']"
   ]
  },
  {
   "cell_type": "code",
   "execution_count": null,
   "metadata": {
    "ExecuteTime": {
     "end_time": "2018-05-24T14:56:31.549820Z",
     "start_time": "2018-05-24T14:56:31.534194Z"
    }
   },
   "outputs": [],
   "source": [
    "bbc_se.loc[10508, 'file_name'] = '07058184_St__Sepulchre_s_Church__High_Holborn__exterior__tenor_bell_rung__with_background_traffic_-_1985_(2B9).wav'"
   ]
  },
  {
   "cell_type": "code",
   "execution_count": null,
   "metadata": {
    "ExecuteTime": {
     "end_time": "2018-05-24T15:01:09.216507Z",
     "start_time": "2018-05-24T15:01:09.200859Z"
    }
   },
   "outputs": [],
   "source": [
    "bbc_se.loc[10512, 'file_name']"
   ]
  },
  {
   "cell_type": "code",
   "execution_count": null,
   "metadata": {
    "ExecuteTime": {
     "end_time": "2018-05-24T15:01:07.666664Z",
     "start_time": "2018-05-24T15:01:07.651031Z"
    }
   },
   "outputs": [],
   "source": [
    "bbc_se.loc[10512, 'file_name'] = '07058199_Exterior__5_bells_rung_in_the_style_used_from_the_Reformation_until_about_the_17th_Century_-_rounds_and_call_changes_recorded_outside_church_-_1982_(2B8__reprocessed_).wav'"
   ]
  },
  {
   "cell_type": "code",
   "execution_count": null,
   "metadata": {
    "ExecuteTime": {
     "end_time": "2018-05-24T15:02:09.300202Z",
     "start_time": "2018-05-24T15:02:09.284574Z"
    }
   },
   "outputs": [],
   "source": [
    "bbc_se.loc[10513, 'file_name']"
   ]
  },
  {
   "cell_type": "code",
   "execution_count": null,
   "metadata": {
    "ExecuteTime": {
     "end_time": "2018-05-24T15:02:08.000432Z",
     "start_time": "2018-05-24T15:02:07.984792Z"
    }
   },
   "outputs": [],
   "source": [
    "bbc_se.loc[10513, 'file_name'] = '07058198_Interior__5_bells_rung_in_the_style_used_from_the_Reformation_until_about_the_17th_Century_-_rounds_and_call_changes_from_interior_of_church_-_1982_(2B8__reprocessed_).wav'"
   ]
  },
  {
   "cell_type": "code",
   "execution_count": null,
   "metadata": {
    "ExecuteTime": {
     "end_time": "2018-05-24T15:19:40.436405Z",
     "start_time": "2018-05-24T15:19:40.420778Z"
    }
   },
   "outputs": [],
   "source": [
    "bbc_se.loc[10576, 'file_name']"
   ]
  },
  {
   "cell_type": "code",
   "execution_count": null,
   "metadata": {
    "ExecuteTime": {
     "end_time": "2018-05-24T15:25:32.926847Z",
     "start_time": "2018-05-24T15:25:32.911221Z"
    }
   },
   "outputs": [],
   "source": [
    "bbc_se.loc[10576, 'file_name'] = '07072153_Quiet_safari_park_fairground_atmos___with_birdsong_and_some_ducks_quacking_at_start_-_May__1985_(5F4_reprocessed)_(tecnical_note_-_to_be_used_at_low_level).wav'"
   ]
  },
  {
   "cell_type": "code",
   "execution_count": null,
   "metadata": {
    "ExecuteTime": {
     "end_time": "2018-05-24T15:19:40.436405Z",
     "start_time": "2018-05-24T15:19:40.420778Z"
    }
   },
   "outputs": [],
   "source": [
    "bbc_se.loc[11040, 'file_name']"
   ]
  },
  {
   "cell_type": "code",
   "execution_count": null,
   "metadata": {
    "ExecuteTime": {
     "end_time": "2018-05-24T15:25:32.926847Z",
     "start_time": "2018-05-24T15:25:32.911221Z"
    }
   },
   "outputs": [],
   "source": [
    "bbc_se.loc[11040, 'file_name'] = '07062049_Cattle__interior__young_calves_feeding_from_buckets_in_sheds__one_sucking_through_teat_out_of_bucket_(close_perspective)__calf_scampers_in_straw__young_calf_moos__older_calves_moo.wav'"
   ]
  },
  {
   "cell_type": "code",
   "execution_count": null,
   "metadata": {
    "ExecuteTime": {
     "end_time": "2018-05-24T15:19:40.436405Z",
     "start_time": "2018-05-24T15:19:40.420778Z"
    }
   },
   "outputs": [],
   "source": [
    "bbc_se.loc[13243, 'file_name']"
   ]
  },
  {
   "cell_type": "code",
   "execution_count": null,
   "metadata": {
    "ExecuteTime": {
     "end_time": "2018-05-24T15:25:32.926847Z",
     "start_time": "2018-05-24T15:25:32.911221Z"
    }
   },
   "outputs": [],
   "source": [
    "bbc_se.loc[13243, 'file_name'] = '07074025_Claybird_shooting_-_several_shotgun_shots_preceded_by_noise_of_claybird_(aka_clay_pigeon)_firing_mechanism__with_comments_from_instructor_just_audible.wav'"
   ]
  },
  {
   "cell_type": "code",
   "execution_count": null,
   "metadata": {
    "ExecuteTime": {
     "end_time": "2018-05-24T15:19:40.436405Z",
     "start_time": "2018-05-24T15:19:40.420778Z"
    }
   },
   "outputs": [],
   "source": [
    "bbc_se.loc[14701, 'file_name']"
   ]
  },
  {
   "cell_type": "code",
   "execution_count": null,
   "metadata": {
    "ExecuteTime": {
     "end_time": "2018-05-24T15:25:32.926847Z",
     "start_time": "2018-05-24T15:25:32.911221Z"
    }
   },
   "outputs": [],
   "source": [
    "bbc_se.loc[14701, 'file_name'] = '07068045_Exterior_-_Dacia_(Romania_s_car)_in_the_rain__starts__police_whistles_and_heavy_traffic__Interior_-_engine_start_and_drive_on_wet_streets_in_heavy_traffic_-_exterior_-_car_drives_away_.wav'"
   ]
  },
  {
   "cell_type": "code",
   "execution_count": null,
   "metadata": {
    "ExecuteTime": {
     "end_time": "2018-05-24T15:19:40.436405Z",
     "start_time": "2018-05-24T15:19:40.420778Z"
    }
   },
   "outputs": [],
   "source": [
    "bbc_se.loc[15486, 'file_name']"
   ]
  },
  {
   "cell_type": "code",
   "execution_count": null,
   "metadata": {
    "ExecuteTime": {
     "end_time": "2018-05-24T15:25:32.926847Z",
     "start_time": "2018-05-24T15:25:32.911221Z"
    }
   },
   "outputs": [],
   "source": [
    "bbc_se.loc[15486, 'file_name'] = '07070203_Thai_Diesel_Express_Train__interior__atmosphere_in_third_class_carriage__constant_run__slow___stop__station_atmosphere__bell___train_horn__train_starts_into_run_.wav'"
   ]
  },
  {
   "cell_type": "code",
   "execution_count": null,
   "metadata": {
    "ExecuteTime": {
     "end_time": "2018-05-24T15:44:50.088646Z",
     "start_time": "2018-05-24T15:44:49.948031Z"
    }
   },
   "outputs": [],
   "source": [
    "bbc_se.to_csv('BBC_SE.csv')"
   ]
  },
  {
   "cell_type": "markdown",
   "metadata": {},
   "source": [
    "# リストの内容"
   ]
  },
  {
   "cell_type": "code",
   "execution_count": null,
   "metadata": {
    "ExecuteTime": {
     "end_time": "2018-05-29T07:52:02.320657Z",
     "start_time": "2018-05-29T07:52:02.226261Z"
    }
   },
   "outputs": [],
   "source": [
    "bbc_se = pd.read_csv('BBC_SE.csv', index_col=0)"
   ]
  },
  {
   "cell_type": "code",
   "execution_count": null,
   "metadata": {
    "ExecuteTime": {
     "end_time": "2018-05-16T15:36:22.319786Z",
     "start_time": "2018-05-16T15:36:22.272912Z"
    },
    "collapsed": true,
    "scrolled": true
   },
   "outputs": [],
   "source": [
    "bbc_se.groupby('Category').count()"
   ]
  },
  {
   "cell_type": "code",
   "execution_count": null,
   "metadata": {
    "ExecuteTime": {
     "end_time": "2018-05-16T21:44:23.442665Z",
     "start_time": "2018-05-16T21:44:23.411828Z"
    },
    "collapsed": true
   },
   "outputs": [],
   "source": [
    "bbc_se['Duration (seconds)'].sum()"
   ]
  },
  {
   "cell_type": "code",
   "execution_count": null,
   "metadata": {
    "ExecuteTime": {
     "end_time": "2018-05-23T15:12:29.573079Z",
     "start_time": "2018-05-23T15:12:29.557477Z"
    },
    "collapsed": true
   },
   "outputs": [],
   "source": [
    "bbc_se.loc[8000:10000, 'Duration (seconds)'].sum()"
   ]
  },
  {
   "cell_type": "code",
   "execution_count": null,
   "metadata": {
    "ExecuteTime": {
     "end_time": "2018-05-24T15:50:36.899450Z",
     "start_time": "2018-05-24T15:50:36.883791Z"
    }
   },
   "outputs": [],
   "source": [
    "bbc_se.loc[11894:, 'Duration (seconds)'].sum()"
   ]
  },
  {
   "cell_type": "code",
   "execution_count": null,
   "metadata": {
    "ExecuteTime": {
     "end_time": "2018-05-19T03:50:27.457594Z",
     "start_time": "2018-05-19T03:50:27.239249Z"
    },
    "collapsed": true
   },
   "outputs": [],
   "source": [
    "bbc_se['Duration (seconds)'].plot()"
   ]
  },
  {
   "cell_type": "code",
   "execution_count": null,
   "metadata": {
    "ExecuteTime": {
     "end_time": "2018-05-24T15:49:08.806508Z",
     "start_time": "2018-05-24T15:49:08.650241Z"
    }
   },
   "outputs": [],
   "source": [
    "bbc_se.loc[11894:14000, 'Duration (seconds)'].plot()"
   ]
  },
  {
   "cell_type": "code",
   "execution_count": null,
   "metadata": {
    "ExecuteTime": {
     "end_time": "2018-05-24T15:50:05.151417Z",
     "start_time": "2018-05-24T15:50:05.010803Z"
    }
   },
   "outputs": [],
   "source": [
    "bbc_se.loc[14000:15000, 'Duration (seconds)'].plot()"
   ]
  },
  {
   "cell_type": "code",
   "execution_count": null,
   "metadata": {
    "ExecuteTime": {
     "end_time": "2018-05-24T15:50:05.151417Z",
     "start_time": "2018-05-24T15:50:05.010803Z"
    }
   },
   "outputs": [],
   "source": [
    "bbc_se.loc[15000:, 'Duration (seconds)'].plot()"
   ]
  },
  {
   "cell_type": "code",
   "execution_count": null,
   "metadata": {
    "ExecuteTime": {
     "end_time": "2018-05-24T15:48:37.723385Z",
     "start_time": "2018-05-24T15:48:37.567146Z"
    }
   },
   "outputs": [],
   "source": [
    "bbc_se.loc[11894:, 'Duration (seconds)'].plot()"
   ]
  },
  {
   "cell_type": "code",
   "execution_count": null,
   "metadata": {
    "ExecuteTime": {
     "end_time": "2018-05-29T07:55:57.505891Z",
     "start_time": "2018-05-29T07:55:57.490300Z"
    }
   },
   "outputs": [],
   "source": [
    "max(bbc_se['Duration (seconds)'])"
   ]
  },
  {
   "cell_type": "code",
   "execution_count": null,
   "metadata": {
    "ExecuteTime": {
     "end_time": "2018-05-29T08:50:53.456438Z",
     "start_time": "2018-05-29T08:50:53.269302Z"
    }
   },
   "outputs": [],
   "source": [
    "hist = plt.hist(bbc_se['Duration (seconds)'], bins=np.arange(0, 1660, 60))\n",
    "hist"
   ]
  },
  {
   "cell_type": "code",
   "execution_count": null,
   "metadata": {
    "ExecuteTime": {
     "end_time": "2018-05-29T08:51:02.900763Z",
     "start_time": "2018-05-29T08:51:02.880040Z"
    }
   },
   "outputs": [],
   "source": [
    "db = pd.DataFrame(hist[1][:-1], columns=('sec',))\n",
    "db['count'] = hist[0].astype(np.int64)\n",
    "db['cum'] = db['count'].cumsum()\n",
    "db"
   ]
  },
  {
   "cell_type": "code",
   "execution_count": null,
   "metadata": {
    "ExecuteTime": {
     "end_time": "2018-05-29T08:57:17.220144Z",
     "start_time": "2018-05-29T08:57:17.204507Z"
    }
   },
   "outputs": [],
   "source": [
    "bbc_se.loc[bbc_se['Duration (seconds)'] >= 300, 'Duration (seconds)'].count()"
   ]
  },
  {
   "cell_type": "markdown",
   "metadata": {},
   "source": [
    "# ダウンロード"
   ]
  },
  {
   "cell_type": "raw",
   "metadata": {},
   "source": [
    "# ファイル名使用禁止文字\n",
    "# \\/：*?\"<>|\n",
    "# 追加で使用したくない文字\n",
    "#  ',.!@#$%^&*;"
   ]
  },
  {
   "cell_type": "code",
   "execution_count": null,
   "metadata": {
    "ExecuteTime": {
     "end_time": "2018-05-24T15:51:01.429618Z",
     "start_time": "2018-05-24T15:51:01.351484Z"
    }
   },
   "outputs": [],
   "source": [
    "bbc_se = pd.read_csv('BBC_SE.csv', index_col=0)"
   ]
  },
  {
   "cell_type": "code",
   "execution_count": null,
   "metadata": {
    "collapsed": true
   },
   "outputs": [],
   "source": [
    "bbc_se['Description'][8]"
   ]
  },
  {
   "cell_type": "code",
   "execution_count": null,
   "metadata": {
    "ExecuteTime": {
     "end_time": "2018-05-12T14:26:41.363279Z",
     "start_time": "2018-05-12T14:26:41.347640Z"
    },
    "collapsed": true
   },
   "outputs": [],
   "source": [
    "re.sub(\"[\\\\/:*?\\\"<>| `',.~!@#$%^&*;]\", '_', bbc_se['Description'][8])"
   ]
  },
  {
   "cell_type": "code",
   "execution_count": null,
   "metadata": {
    "ExecuteTime": {
     "end_time": "2018-05-12T14:20:31.003665Z",
     "start_time": "2018-05-12T14:20:30.988039Z"
    },
    "collapsed": true
   },
   "outputs": [],
   "source": [
    "bbc_se['URL'][8]"
   ]
  },
  {
   "cell_type": "code",
   "execution_count": null,
   "metadata": {
    "ExecuteTime": {
     "end_time": "2018-05-12T14:22:32.781985Z",
     "start_time": "2018-05-12T14:22:32.751139Z"
    },
    "collapsed": true
   },
   "outputs": [],
   "source": [
    "re.search(r'[0-9]+', bbc_se['URL'][8]).group()"
   ]
  },
  {
   "cell_type": "code",
   "execution_count": null,
   "metadata": {
    "ExecuteTime": {
     "end_time": "2018-05-13T00:31:43.616478Z",
     "start_time": "2018-05-13T00:31:43.600888Z"
    },
    "collapsed": true
   },
   "outputs": [],
   "source": [
    "'D:\\BBC_SE\\{0}_{1}.wav'.format(re.search(r'[0-9]+', bbc_se['URL'][8]).group(),\n",
    "                              re.sub(\"[\\\\/:*?\\\"<>| `',.~!@#$%^&*;]\", '_', bbc_se['Description'][8]))"
   ]
  },
  {
   "cell_type": "code",
   "execution_count": null,
   "metadata": {
    "ExecuteTime": {
     "end_time": "2018-05-13T00:32:58.882291Z",
     "start_time": "2018-05-13T00:32:53.350404Z"
    },
    "collapsed": true
   },
   "outputs": [],
   "source": [
    "wget.download(url=bbc_se['URL'][8], out='D:\\BBC_SE\\{0}_{1}.wav'.format(\n",
    "    re.search(r'[0-9]+', bbc_se['URL'][8]).group(),\n",
    "    re.sub(\"[\\\\/:*?\\\"<>| `',.~!@#$%^&*;]\", '_', bbc_se['Description'][8])))"
   ]
  },
  {
   "cell_type": "code",
   "execution_count": null,
   "metadata": {
    "ExecuteTime": {
     "end_time": "2018-05-24T15:52:07.387567Z",
     "start_time": "2018-05-24T15:52:07.372355Z"
    }
   },
   "outputs": [],
   "source": [
    "failed = []"
   ]
  },
  {
   "cell_type": "code",
   "execution_count": null,
   "metadata": {
    "ExecuteTime": {
     "end_time": "2018-05-25T00:46:16.863753Z",
     "start_time": "2018-05-24T16:39:57.233306Z"
    },
    "scrolled": true
   },
   "outputs": [],
   "source": [
    "for idx in range(12000, 14000):\n",
    "    try:\n",
    "        wget.download(url=bbc_se['URL'][idx], out='D:/BBC_SE/12001-14000/{0}'.format(bbc_se['file_name'][idx]))\n",
    "    except Exception as e:\n",
    "        print('\\n{0}: {1}\\n'.format(idx, e))\n",
    "        failed.append(idx)\n",
    "        \n",
    "for idx in range(14000, len(bbc_se)):\n",
    "    try:\n",
    "        wget.download(url=bbc_se['URL'][idx], out='D:/BBC_SE/14001-16011/{0}'.format(bbc_se['file_name'][idx]))\n",
    "    except Exception as e:\n",
    "        print('\\n{0}: {1}\\n'.format(idx, e))\n",
    "        failed.append(idx)"
   ]
  },
  {
   "cell_type": "code",
   "execution_count": null,
   "metadata": {
    "ExecuteTime": {
     "end_time": "2018-05-25T04:10:00.369748Z",
     "start_time": "2018-05-25T04:10:00.354148Z"
    }
   },
   "outputs": [],
   "source": [
    "failed"
   ]
  },
  {
   "cell_type": "code",
   "execution_count": null,
   "metadata": {
    "collapsed": true
   },
   "outputs": [],
   "source": [
    "pd.Series(failed).to_csv('download_failed.csv')"
   ]
  },
  {
   "cell_type": "code",
   "execution_count": null,
   "metadata": {
    "ExecuteTime": {
     "end_time": "2018-05-13T13:49:26.784657Z",
     "start_time": "2018-05-13T13:49:26.769232Z"
    },
    "collapsed": true
   },
   "outputs": [],
   "source": [
    "bbc_se['file_name'][741]"
   ]
  },
  {
   "cell_type": "code",
   "execution_count": null,
   "metadata": {
    "ExecuteTime": {
     "end_time": "2018-05-25T05:38:22.261143Z",
     "start_time": "2018-05-25T05:38:08.881459Z"
    }
   },
   "outputs": [],
   "source": [
    "idx = 15423\n",
    "wget.download(url=bbc_se['URL'][idx], out='D:/BBC_SE/14001-16011/{0}'.format(bbc_se['file_name'][idx]))"
   ]
  },
  {
   "cell_type": "code",
   "execution_count": null,
   "metadata": {
    "ExecuteTime": {
     "end_time": "2018-05-13T06:49:50.214995Z",
     "start_time": "2018-05-13T06:49:50.183695Z"
    },
    "collapsed": true
   },
   "outputs": [],
   "source": [
    "list(range(110, 120))"
   ]
  },
  {
   "cell_type": "code",
   "execution_count": null,
   "metadata": {
    "ExecuteTime": {
     "end_time": "2018-05-16T15:39:54.492962Z",
     "start_time": "2018-05-16T15:39:52.883275Z"
    },
    "collapsed": true
   },
   "outputs": [],
   "source": [
    "# import sys, time\n",
    "for num, i in enumerate(range(100)):\n",
    "    sys.stdout.write(\"\\r{0}\".format(num))\n",
    "    sys.stdout.flush()\n",
    "    time.sleep(0.01)"
   ]
  },
  {
   "cell_type": "markdown",
   "metadata": {
    "collapsed": true
   },
   "source": [
    "# 形態素解析"
   ]
  },
  {
   "cell_type": "code",
   "execution_count": null,
   "metadata": {
    "ExecuteTime": {
     "end_time": "2019-11-23T08:49:28.203372Z",
     "start_time": "2019-11-23T08:49:28.168492Z"
    },
    "collapsed": true
   },
   "outputs": [],
   "source": [
    "bbc_se"
   ]
  },
  {
   "cell_type": "code",
   "execution_count": null,
   "metadata": {
    "ExecuteTime": {
     "end_time": "2019-11-24T01:59:25.169512Z",
     "start_time": "2019-11-24T01:59:25.162530Z"
    },
    "collapsed": true
   },
   "outputs": [],
   "source": [
    "bbc_se['Description']"
   ]
  },
  {
   "cell_type": "code",
   "execution_count": null,
   "metadata": {
    "ExecuteTime": {
     "end_time": "2019-11-23T08:53:34.515784Z",
     "start_time": "2019-11-23T08:53:34.512766Z"
    }
   },
   "outputs": [],
   "source": [
    "# https://yoshiiz.blog.fc2.com/blog-entry-888.html\n",
    "\n",
    "text = bbc_se.loc[0, 'Description']\n",
    "\n",
    "# word, pos, lemma からなるタブ区切りの文字列のリストを取得する。\n",
    "tags_tabseparated = ttw.TreeTagger(TAGLANG='en').tag_text(text)\n",
    "\n",
    "# word, pos, lemma からなるタプルのリストを作成する。\n",
    "tags_tuple = ttw.make_tags(tags_tabseparated)  \n",
    "\n",
    "# word, pos, lemma の一覧を表示する。\n",
    "for tag in tags_tuple:\n",
    "    print(\"{0}\\t{1}\\t{2}\".format(tag[0], tag[1], tag[2]))"
   ]
  },
  {
   "cell_type": "code",
   "execution_count": null,
   "metadata": {
    "ExecuteTime": {
     "end_time": "2019-11-23T12:41:57.998646Z",
     "start_time": "2019-11-23T12:41:57.517906Z"
    }
   },
   "outputs": [],
   "source": [
    "# xxx.xxx みたいにピリオドの直後に単語がくると構文として間違っているので?不正な値が返ってしまう\n",
    "# xxx. xxx だったら大丈夫\n",
    "ttw.TreeTagger(TAGLANG='en').tag_text(\"occas.distant\")"
   ]
  },
  {
   "cell_type": "code",
   "execution_count": null,
   "metadata": {
    "ExecuteTime": {
     "end_time": "2019-11-24T04:10:46.473836Z",
     "start_time": "2019-11-24T02:01:59.997781Z"
    }
   },
   "outputs": [],
   "source": [
    "# 2時間かかった\n",
    "# 結果は下で csv に保存済み\n",
    "\n",
    "failed = []\n",
    "\n",
    "tags = pd.DataFrame()\n",
    "\n",
    "for idx in range(len(bbc_se)):\n",
    "    text = bbc_se.loc[idx, 'Description']\n",
    "    print('\\r{0}: {1}'.format(idx, text), end=\"\")\n",
    "    text = re.sub('[.,\\'\"()]', ' ', text)\n",
    "    \n",
    "    try:\n",
    "        # word, pos, lemma からなるタブ区切りの文字列のリストを取得\n",
    "        tags_tabseparated = ttw.TreeTagger(TAGLANG='en').tag_text(text)\n",
    "\n",
    "        # word, pos, lemma からなるタプルのリストを作成\n",
    "        tags_tuple = ttw.make_tags(tags_tabseparated)  \n",
    "\n",
    "        # tags_tuple の中身を確認\n",
    "        for tag in tags_tuple:\n",
    "            # print(\"{0}\\t{1}\\t{2}\".format(tag[0], tag[1], tag[2]))\n",
    "            empty_test = tag[1] # 単語として判定できていないと要素がないはず\n",
    "            \n",
    "        tags = tags.append(tags_tuple)\n",
    "        \n",
    "    except Exception as e:\n",
    "        print('\\n{0}: {1}\\nerror: {2}\\n'.format(idx, text, e))\n",
    "        failed.append(idx)\n",
    "        \n",
    "tags = tags.reset_index(drop=True)\n",
    "\n",
    "word_freq = Counter(tags['word'])\n",
    "pos_freq = Counter(tags['pos'])\n",
    "lemma_freq = Counter(tags['lemma'])"
   ]
  },
  {
   "cell_type": "code",
   "execution_count": null,
   "metadata": {
    "ExecuteTime": {
     "end_time": "2019-11-24T04:10:54.532778Z",
     "start_time": "2019-11-24T04:10:54.528762Z"
    }
   },
   "outputs": [],
   "source": [
    "failed\n",
    "# エラーなし"
   ]
  },
  {
   "cell_type": "code",
   "execution_count": null,
   "metadata": {
    "ExecuteTime": {
     "end_time": "2019-11-24T05:18:31.446039Z",
     "start_time": "2019-11-24T05:18:31.153795Z"
    }
   },
   "outputs": [],
   "source": [
    "tags.to_csv('BBC_SE_tags.csv')"
   ]
  },
  {
   "cell_type": "code",
   "execution_count": null,
   "metadata": {
    "ExecuteTime": {
     "end_time": "2019-11-24T05:18:38.092150Z",
     "start_time": "2019-11-24T05:18:37.979448Z"
    }
   },
   "outputs": [],
   "source": [
    "tags_table = pd.read_csv('BBC_SE_tags.csv', index_col=0)\n",
    "tags_table"
   ]
  },
  {
   "cell_type": "code",
   "execution_count": null,
   "metadata": {
    "ExecuteTime": {
     "end_time": "2019-11-24T05:03:32.371082Z",
     "start_time": "2019-11-24T05:03:32.341166Z"
    }
   },
   "outputs": [],
   "source": [
    "word_freq_table = pd.DataFrame.from_dict(word_freq, orient='index')\n",
    "word_freq_table = word_freq_table.sort_values(0, ascending=False).reset_index()\n",
    "word_freq_table.columns = ['word', 'freq']\n",
    "\n",
    "pos_freq_table = pd.DataFrame.from_dict(pos_freq, orient='index')\n",
    "pos_freq_table = pos_freq_table.sort_values(0, ascending=False).reset_index()\n",
    "pos_freq_table.columns = ['pos', 'freq']\n",
    "\n",
    "lemma_freq_table = pd.DataFrame.from_dict(lemma_freq, orient='index')\n",
    "lemma_freq_table = lemma_freq_table.sort_values(0, ascending=False).reset_index()\n",
    "lemma_freq_table.columns = ['lemma', 'freq']"
   ]
  },
  {
   "cell_type": "code",
   "execution_count": null,
   "metadata": {
    "ExecuteTime": {
     "end_time": "2019-11-24T05:03:44.176542Z",
     "start_time": "2019-11-24T05:03:44.159591Z"
    },
    "collapsed": true
   },
   "outputs": [],
   "source": [
    "word_freq_table"
   ]
  },
  {
   "cell_type": "code",
   "execution_count": null,
   "metadata": {
    "ExecuteTime": {
     "end_time": "2019-11-24T05:04:07.277517Z",
     "start_time": "2019-11-24T05:04:07.267544Z"
    },
    "collapsed": true
   },
   "outputs": [],
   "source": [
    "pos_freq_table"
   ]
  },
  {
   "cell_type": "code",
   "execution_count": null,
   "metadata": {
    "ExecuteTime": {
     "end_time": "2019-11-24T05:04:13.589847Z",
     "start_time": "2019-11-24T05:04:13.567945Z"
    },
    "collapsed": true
   },
   "outputs": [],
   "source": [
    "lemma_freq_table"
   ]
  },
  {
   "cell_type": "code",
   "execution_count": null,
   "metadata": {
    "ExecuteTime": {
     "end_time": "2019-11-24T05:05:03.357579Z",
     "start_time": "2019-11-24T05:05:02.552760Z"
    }
   },
   "outputs": [],
   "source": [
    "# エンコード指定なしで Excel 保存\n",
    "# 出力後に全セルの書式設定を文字列に変更しておいた方がよさそう\n",
    "writer = pd.ExcelWriter('BBC_SE_tags_freq.xlsx')\n",
    "word_freq_table.to_excel(writer, sheet_name='word', index=False)\n",
    "pos_freq_table.to_excel(writer, sheet_name='pos', index=False)\n",
    "lemma_freq_table.to_excel(writer, sheet_name='lemma', index=False)\n",
    "writer.save()"
   ]
  },
  {
   "cell_type": "code",
   "execution_count": null,
   "metadata": {
    "ExecuteTime": {
     "end_time": "2019-11-24T04:55:24.092437Z",
     "start_time": "2019-11-24T04:55:24.083459Z"
    },
    "collapsed": true
   },
   "outputs": [],
   "source": [
    "word_freq.most_common(30)"
   ]
  },
  {
   "cell_type": "code",
   "execution_count": null,
   "metadata": {
    "ExecuteTime": {
     "end_time": "2019-11-24T04:11:00.016516Z",
     "start_time": "2019-11-24T04:10:59.993577Z"
    },
    "collapsed": true
   },
   "outputs": [],
   "source": [
    "tags"
   ]
  },
  {
   "cell_type": "code",
   "execution_count": null,
   "metadata": {
    "ExecuteTime": {
     "end_time": "2019-11-24T00:55:03.127408Z",
     "start_time": "2019-11-24T00:55:03.121425Z"
    },
    "collapsed": true
   },
   "outputs": [],
   "source": [
    "tags_tuple"
   ]
  },
  {
   "cell_type": "code",
   "execution_count": null,
   "metadata": {
    "ExecuteTime": {
     "end_time": "2019-11-24T01:56:41.705297Z",
     "start_time": "2019-11-24T01:56:41.698309Z"
    },
    "collapsed": true
   },
   "outputs": [],
   "source": [
    "tags['word']"
   ]
  },
  {
   "cell_type": "code",
   "execution_count": null,
   "metadata": {
    "ExecuteTime": {
     "end_time": "2019-11-24T01:56:31.086605Z",
     "start_time": "2019-11-24T01:56:31.081620Z"
    }
   },
   "outputs": [],
   "source": [
    "list(tag)"
   ]
  },
  {
   "cell_type": "code",
   "execution_count": null,
   "metadata": {
    "ExecuteTime": {
     "end_time": "2019-11-23T10:11:22.822852Z",
     "start_time": "2019-11-23T10:11:22.817878Z"
    },
    "collapsed": true
   },
   "outputs": [],
   "source": [
    "tags_tabseparated"
   ]
  },
  {
   "cell_type": "code",
   "execution_count": null,
   "metadata": {},
   "outputs": [],
   "source": []
  }
 ],
 "metadata": {
  "kernelspec": {
   "display_name": "Python 3",
   "language": "python",
   "name": "python3"
  },
  "language_info": {
   "codemirror_mode": {
    "name": "ipython",
    "version": 3
   },
   "file_extension": ".py",
   "mimetype": "text/x-python",
   "name": "python",
   "nbconvert_exporter": "python",
   "pygments_lexer": "ipython3",
   "version": "3.6.4"
  },
  "toc": {
   "nav_menu": {},
   "number_sections": true,
   "sideBar": true,
   "skip_h1_title": false,
   "toc_cell": false,
   "toc_position": {},
   "toc_section_display": "block",
   "toc_window_display": false
  },
  "varInspector": {
   "cols": {
    "lenName": 16,
    "lenType": 16,
    "lenVar": 40
   },
   "kernels_config": {
    "python": {
     "delete_cmd_postfix": "",
     "delete_cmd_prefix": "del ",
     "library": "var_list.py",
     "varRefreshCmd": "print(var_dic_list())"
    },
    "r": {
     "delete_cmd_postfix": ") ",
     "delete_cmd_prefix": "rm(",
     "library": "var_list.r",
     "varRefreshCmd": "cat(var_dic_list()) "
    }
   },
   "types_to_exclude": [
    "module",
    "function",
    "builtin_function_or_method",
    "instance",
    "_Feature"
   ],
   "window_display": false
  }
 },
 "nbformat": 4,
 "nbformat_minor": 2
}
